{
 "cells": [
  {
   "attachments": {},
   "cell_type": "markdown",
   "metadata": {},
   "source": [
    "# Check segmentation made with Ilastik\n",
    "\n",
    "Same as the default 1A notebook, but streamlined to quickly check settings\n",
    "\n",
    "- Loads registered data and probability outputs from Ilastik to visualize\n",
    "- Thresholds probability outputs to produce binary cell masks for the three strains"
   ]
  },
  {
   "cell_type": "code",
   "execution_count": 1,
   "metadata": {
    "tags": [
     "hide-cell"
    ]
   },
   "outputs": [],
   "source": [
    "#next two lines make sure that Matplotlib plots are shown properly in Jupyter Notebook\n",
    "%matplotlib inline\n",
    "%config InlineBackend.figure_format = 'retina'\n",
    "\n",
    "#next line is required for Napari\n",
    "%gui qt\n",
    "\n",
    "#main data analysis packages\n",
    "import numpy as np\n",
    "import seaborn as sns\n",
    "import pandas as pd\n",
    "\n",
    "#image viewer\n",
    "import napari\n",
    "from napari.utils.notebook_display import nbscreenshot\n",
    "\n",
    "#out of memory computation\n",
    "import dask.array as da\n",
    "import dask_image.ndmorph as damorph\n",
    "\n",
    "#path handling\n",
    "import pathlib\n",
    "\n",
    "#image processing packages\n",
    "import skimage.filters as filters\n",
    "from skimage.measure import label, regionprops_table\n",
    "from skimage import morphology\n",
    "\n",
    "#custom code for colony processing\n",
    "import process_colonies as pc\n",
    "\n",
    "#file handling\n",
    "import h5py\n",
    "\n",
    "#dask cash\n",
    "from dask.cache import Cache\n",
    "cache = Cache(2e9)  # Leverage two gigabytes of memory\n",
    "cache.register()    # Turn cache on globally"
   ]
  },
  {
   "attachments": {},
   "cell_type": "markdown",
   "metadata": {},
   "source": [
    "## Set Paths and settings"
   ]
  },
  {
   "cell_type": "code",
   "execution_count": 2,
   "metadata": {},
   "outputs": [],
   "source": [
    "#set path to registered file\n",
    "path_regestired_im = pathlib.Path(\"/Volumes/ScientificData/Users/Giulia(botgiu00)/Collaborations/Ashley/2023-04-11-agar-pad-processed/Registration_max_frames/\")\n",
    "\n",
    "#set path to Ilastik output file\n",
    "path_segmented_im = pathlib.Path(\"/Volumes/ScientificData/Users/Giulia(botgiu00)/Collaborations/Ashley/2023-04-11-agar-pad-processed/Probabilities_iteger_8bit_export/\")\n",
    "\n",
    "#set filenames\n",
    "exp_name = \"20230411\"\n",
    "pos_idx = 0\n",
    "\n",
    "#specify properties to extract \n",
    "prop_list = ['label', \n",
    "            'area', 'centroid', \n",
    "            'axis_major_length', 'axis_minor_length']\n",
    "\n",
    "\n",
    "#specify processing settings\n",
    "settings = {\n",
    "    #specify the order of the strains in the Ilastik layers\n",
    "    'idx_SA1'   : 0, #SA1 is GFP\n",
    "    'idx_SA2'   : 1, #SA2 is RFP\n",
    "    'idx_BG'    : 2,\n",
    "    'idx_PA'    : 3,\n",
    "    #specify the segementation processing parameters for pseudomonas\n",
    "    'sigma'             : 1, # sigma for gaussian filter\n",
    "    'threshold_PA'      : 0.5, # threshold for segmentation\n",
    "    'closing_radius_PA' : 5, # radius for closing operation\n",
    "    'min_cell_area_PA'  : 20, # minimum area for a cell to be considered\n",
    "    'max_hole_area_PA'  : 100, # maximum area for a hole to be filled\n",
    "    #specify the segementation processing parameters for staph\n",
    "    'sigma'             : 1, # sigma for gaussian filter\n",
    "    'threshold_SA'      : 0.5, # threshold for segmentation\n",
    "    'closing_radius_SA' : 5, # radius for closing operation\n",
    "    'min_cell_area_SA'  : 20, # minimum area for a cell to be considered\n",
    "    'max_hole_area_SA'  : 100, # maximum area for a hole to be filled    \n",
    "}\n"
   ]
  },
  {
   "cell_type": "markdown",
   "metadata": {},
   "source": [
    "## Load single position to check output "
   ]
  },
  {
   "cell_type": "code",
   "execution_count": 5,
   "metadata": {},
   "outputs": [],
   "source": [
    "#create metadata path and file names\n",
    "metadata_path = pathlib.Path(f'./agarpad_{exp_name}.csv')\n",
    "file_name_im = f\"{exp_name}_reg_p{pos_idx:03d}.h5\"\n",
    "file_name_seg = f\"{exp_name}_reg_p{pos_idx:03d}-images_Probabilities.h5\"\n",
    "\n",
    "#load metadata\n",
    "df = pd.read_csv(metadata_path, index_col=0)\n",
    "        \n",
    "#load registered images\n",
    "reg_im_file = h5py.File(path_regestired_im/file_name_im, 'r') #open \n",
    "chunk_size = (1, *reg_im_file['images'].shape[-3:])\n",
    "reg_im = da.from_array(reg_im_file['images'], chunks=chunk_size)\n",
    "\n",
    "#load segmented images\n",
    "seg_im_file = h5py.File(path_segmented_im/file_name_seg, 'r') #open \n",
    "chunk_size = (1, 1,*reg_im_file['images'].shape[-2:])\n",
    "\n",
    "seg_prob = da.from_array(seg_im_file['exported_data'], chunks=chunk_size)\n",
    "\n",
    "#crop to max frame\n",
    "max_frm = int(df.loc[f\"pos{pos_idx:03d}\",\"max_frame\"]) if f\"pos{pos_idx:03d}\" in df.index else reg_im.shape[0]\n",
    "reg_im = reg_im[:max_frm]       \n",
    "seg_prob = seg_prob[:max_frm]       \n",
    "\n",
    "condition = df.loc[f\"pos{pos_idx:03d}\",\"condition\"] if f\"pos{pos_idx:03d}\" in df.index else ''\n",
    "\n",
    "#convert to float if necessary\n",
    "if seg_prob.dtype == 'uint8':\n",
    "    seg_prob = seg_prob.astype('float32')/255"
   ]
  },
  {
   "attachments": {},
   "cell_type": "markdown",
   "metadata": {},
   "source": [
    "## Check raw data and Ilastik output with Napari"
   ]
  },
  {
   "cell_type": "code",
   "execution_count": 6,
   "metadata": {},
   "outputs": [],
   "source": [
    "viewer = napari.view_image(reg_im,\n",
    "            channel_axis=1,\n",
    "            name=[\"red\", \"green\", \"phase\"],\n",
    "            colormap=[\"red\", \"green\", \"gray\"])\n",
    "\n",
    "\n",
    "#add probability layer to Napari Viewer\n",
    "prop_layer1 = viewer.add_image(seg_prob[:,settings['idx_SA1'],:,:], \n",
    "                               name='pSA1',colormap='gray')\n",
    "prop_layer2 = viewer.add_image(seg_prob[:,settings['idx_SA2'],:,:], \n",
    "                               name='pSA2',colormap='gray')\n",
    "prop_layer3 = viewer.add_image(seg_prob[:,settings['idx_PA'],:,:], \n",
    "                               name='pPA',colormap='gray')\n",
    "\n",
    "napari.run()"
   ]
  },
  {
   "attachments": {},
   "cell_type": "markdown",
   "metadata": {},
   "source": [
    "---\n",
    "## Process Segmentation and check with Napari\n",
    "\n",
    "We process segmentation and evaluate output.\n",
    "\n",
    "We can inspect:\n",
    "- `probability`: output of Ilastik\n",
    "- `mask`: result after shareholding\n",
    "- `mask_cleaned`: result after processing mask (filling holes and closing operation)\n",
    "- `labels`: result after semantic segmentation"
   ]
  },
  {
   "cell_type": "code",
   "execution_count": 7,
   "metadata": {},
   "outputs": [],
   "source": [
    "#convert to labels\n",
    "SA1_labels, SA1_mask, SA1_maks_cl = pc.process_seg(seg_prob[:,settings['idx_SA1'],:,:], \n",
    "                            sigma = settings['sigma'],\n",
    "                            threshold = settings['threshold_SA'],\n",
    "                            closing_radius = settings['closing_radius_SA'],\n",
    "                            min_cell_area = settings['min_cell_area_SA'],\n",
    "                            max_hole_area = settings['max_hole_area_SA'],\n",
    "                            output_intermediate=True)\n",
    "                            \n",
    "SA2_labels, SA2_mask, SA2_mask_cl = pc.process_seg(seg_prob[:,settings['idx_SA2'],:,:], \n",
    "                        sigma = settings['sigma'],\n",
    "                        threshold = settings['threshold_SA'],\n",
    "                        closing_radius = settings['closing_radius_SA'],\n",
    "                        min_cell_area = settings['min_cell_area_SA'],\n",
    "                        max_hole_area = settings['max_hole_area_SA'],\n",
    "                        output_intermediate=True)                       \n",
    "\n",
    "PA_labels, PA_mask, PA_mask_cl = pc.process_seg(seg_prob[:,settings['idx_PA'],:,:], \n",
    "                        sigma = settings['sigma'],\n",
    "                        threshold = settings['threshold_PA'],\n",
    "                        closing_radius = settings['closing_radius_PA'],\n",
    "                        min_cell_area = settings['min_cell_area_PA'],\n",
    "                        max_hole_area = settings['max_hole_area_PA'],\n",
    "                        output_intermediate=True) \n",
    "\n",
    "#add to viewer:\n",
    "\n",
    "\n",
    "prop_layer1.visible = False\n",
    "prop_layer2.visible = False\n",
    "prop_layer3.visible = False\n",
    "\n",
    "\n",
    "mask_layer_SA1 = viewer.add_image(SA1_mask, name='SA1 mask',\n",
    "                                  colormap='green',opacity=0.3, visible=False)\n",
    "mask_layer_SA2 = viewer.add_image(SA2_mask, name='SA2 mask',\n",
    "                                  colormap='red',opacity=0.3, visible=False)\n",
    "mask_layer_PA = viewer.add_image(PA_mask, name='PA mask',\n",
    "                                 colormap='gray',opacity=0.3, visible=False)\n",
    "\n",
    "mask_cl_layer_SA1 = viewer.add_image(SA1_mask, name='SA1 mask cleaned',\n",
    "                                     colormap='green',opacity=0.3)\n",
    "mask_cl_layer_SA2 = viewer.add_image(SA2_mask, name='SA2 mask cleaned',\n",
    "                                     colormap='red',opacity=0.3)\n",
    "mask_cl_layer_PA = viewer.add_image(PA_mask, name='PA mask cleaned',\n",
    "                                    colormap='gray',opacity=0.3)\n",
    "\n",
    "\n",
    "nap_marker_labels1 = viewer.add_labels(SA1_labels, name='SA1 Labels', visible=False)\n",
    "nap_marker_labels2 = viewer.add_labels(SA2_labels, name='SA2 Labels', visible=False)\n",
    "nap_marker_labels3 = viewer.add_labels(PA_labels, name='PA Labels', visible=False)  "
   ]
  },
  {
   "attachments": {},
   "cell_type": "markdown",
   "metadata": {},
   "source": [
    "----\n",
    "## Track colonies and inspect with Napari"
   ]
  },
  {
   "cell_type": "code",
   "execution_count": 8,
   "metadata": {},
   "outputs": [],
   "source": [
    "#track colonies and extract properties\n",
    "df_SA1 = pc.track_extract_prop(SA1_labels, prop_list, \n",
    "                            metadata = {'pos': pos_idx, 'strain':'SA1','condition':condition})\n",
    "\n",
    "df_SA2 = pc.track_extract_prop(SA2_labels, prop_list, \n",
    "                            metadata = {'pos': pos_idx, 'strain':'SA2','condition':condition})\n",
    "\n",
    "df_PA = pc.track_extract_prop(PA_labels, prop_list, \n",
    "                            metadata = {'pos': pos_idx, 'strain':'PA','condition':condition})\n",
    "\n",
    "#combine dataframes\n",
    "df = pd.concat([df_SA1, df_SA2, df_PA]).reset_index(drop=True)\n",
    "\n",
    "#add tracks to viewer\n",
    "\n",
    "nap_marker_labels1.visible = True\n",
    "nap_marker_labels2.visible = True\n",
    "nap_marker_labels3.visible = True\n",
    "\n",
    "mask_layer_SA1.visible = False\n",
    "mask_layer_SA2.visible = False\n",
    "mask_layer_PA.visible = False\n",
    "\n",
    "mask_cl_layer_SA1.visible = False\n",
    "mask_cl_layer_SA2.visible = False\n",
    "mask_cl_layer_PA.visible = False\n",
    "\n",
    "viewer.add_tracks(pc.df_track_to_lin(df_SA1), name='Tracks SA1')\n",
    "viewer.add_tracks(pc.df_track_to_lin(df_SA2), name='Tracks SA2')\n",
    "viewer.add_tracks(pc.df_track_to_lin(df_PA), name='Tracks PA')\n",
    "viewer.show()"
   ]
  }
 ],
 "metadata": {
  "celltoolbar": "Tags",
  "kernelspec": {
   "display_name": "i2i_env",
   "language": "python",
   "name": "python3"
  },
  "language_info": {
   "codemirror_mode": {
    "name": "ipython",
    "version": 3
   },
   "file_extension": ".py",
   "mimetype": "text/x-python",
   "name": "python",
   "nbconvert_exporter": "python",
   "pygments_lexer": "ipython3",
   "version": "3.9.13"
  },
  "vscode": {
   "interpreter": {
    "hash": "7c6538b57b9d95695cc8c88818812a736980da96b6d92e389fbfaae31437292d"
   }
  }
 },
 "nbformat": 4,
 "nbformat_minor": 4
}
