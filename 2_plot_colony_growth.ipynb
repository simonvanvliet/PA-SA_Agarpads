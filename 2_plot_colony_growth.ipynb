{
 "cells": [
  {
   "attachments": {},
   "cell_type": "markdown",
   "metadata": {},
   "source": [
    "# Plot colony growth rate of Staph-Pseudomonas co-culture\n",
    "\n",
    "To run this code install ipympl if you have not yet done so:\n",
    "\n",
    "`conda install -c conda-forge ipympl`"
   ]
  },
  {
   "cell_type": "code",
   "execution_count": 1,
   "metadata": {},
   "outputs": [],
   "source": [
    "#next two lines make sure that Matplotlib plots are shown properly in Jupyter Notebook\n",
    "%matplotlib inline\n",
    "%matplotlib widget\n",
    "%config InlineBackend.figure_format = 'retina'\n",
    "\n",
    "#main data analysis packages\n",
    "import numpy as np\n",
    "import seaborn as sns\n",
    "import pandas as pd\n",
    "\n",
    "#path handling\n",
    "import pathlib"
   ]
  },
  {
   "attachments": {},
   "cell_type": "markdown",
   "metadata": {},
   "source": [
    "## Load data"
   ]
  },
  {
   "cell_type": "code",
   "execution_count": 2,
   "metadata": {},
   "outputs": [
    {
     "data": {
      "text/html": [
       "<div>\n",
       "<style scoped>\n",
       "    .dataframe tbody tr th:only-of-type {\n",
       "        vertical-align: middle;\n",
       "    }\n",
       "\n",
       "    .dataframe tbody tr th {\n",
       "        vertical-align: top;\n",
       "    }\n",
       "\n",
       "    .dataframe thead th {\n",
       "        text-align: right;\n",
       "    }\n",
       "</style>\n",
       "<table border=\"1\" class=\"dataframe\">\n",
       "  <thead>\n",
       "    <tr style=\"text-align: right;\">\n",
       "      <th></th>\n",
       "      <th>label</th>\n",
       "      <th>area</th>\n",
       "      <th>centroid-0</th>\n",
       "      <th>centroid-1</th>\n",
       "      <th>axis_major_length</th>\n",
       "      <th>axis_minor_length</th>\n",
       "      <th>frame</th>\n",
       "      <th>pos</th>\n",
       "      <th>strain</th>\n",
       "      <th>condition</th>\n",
       "      <th>colony_id</th>\n",
       "      <th>col_idx</th>\n",
       "      <th>min_dist_PA_centroid</th>\n",
       "    </tr>\n",
       "  </thead>\n",
       "  <tbody>\n",
       "    <tr>\n",
       "      <th>0</th>\n",
       "      <td>1</td>\n",
       "      <td>818</td>\n",
       "      <td>80.063570</td>\n",
       "      <td>1266.731051</td>\n",
       "      <td>35.040071</td>\n",
       "      <td>31.224062</td>\n",
       "      <td>0</td>\n",
       "      <td>0</td>\n",
       "      <td>SA1</td>\n",
       "      <td>JE2RFP_gltTGFP_PAO1_TSB</td>\n",
       "      <td>0</td>\n",
       "      <td>0.0</td>\n",
       "      <td>180.846496</td>\n",
       "    </tr>\n",
       "    <tr>\n",
       "      <th>1</th>\n",
       "      <td>2</td>\n",
       "      <td>735</td>\n",
       "      <td>89.469388</td>\n",
       "      <td>1374.753741</td>\n",
       "      <td>43.489829</td>\n",
       "      <td>23.046311</td>\n",
       "      <td>0</td>\n",
       "      <td>0</td>\n",
       "      <td>SA1</td>\n",
       "      <td>JE2RFP_gltTGFP_PAO1_TSB</td>\n",
       "      <td>1</td>\n",
       "      <td>1.0</td>\n",
       "      <td>224.546857</td>\n",
       "    </tr>\n",
       "    <tr>\n",
       "      <th>2</th>\n",
       "      <td>3</td>\n",
       "      <td>777</td>\n",
       "      <td>102.608752</td>\n",
       "      <td>1551.871300</td>\n",
       "      <td>34.768511</td>\n",
       "      <td>29.621879</td>\n",
       "      <td>0</td>\n",
       "      <td>0</td>\n",
       "      <td>SA1</td>\n",
       "      <td>JE2RFP_gltTGFP_PAO1_TSB</td>\n",
       "      <td>2</td>\n",
       "      <td>2.0</td>\n",
       "      <td>105.645573</td>\n",
       "    </tr>\n",
       "    <tr>\n",
       "      <th>3</th>\n",
       "      <td>4</td>\n",
       "      <td>235</td>\n",
       "      <td>171.485106</td>\n",
       "      <td>1580.600000</td>\n",
       "      <td>23.340537</td>\n",
       "      <td>13.144388</td>\n",
       "      <td>0</td>\n",
       "      <td>0</td>\n",
       "      <td>SA1</td>\n",
       "      <td>JE2RFP_gltTGFP_PAO1_TSB</td>\n",
       "      <td>3</td>\n",
       "      <td>3.0</td>\n",
       "      <td>88.521595</td>\n",
       "    </tr>\n",
       "    <tr>\n",
       "      <th>4</th>\n",
       "      <td>5</td>\n",
       "      <td>1282</td>\n",
       "      <td>224.416537</td>\n",
       "      <td>1096.703588</td>\n",
       "      <td>59.640729</td>\n",
       "      <td>28.771840</td>\n",
       "      <td>0</td>\n",
       "      <td>0</td>\n",
       "      <td>SA1</td>\n",
       "      <td>JE2RFP_gltTGFP_PAO1_TSB</td>\n",
       "      <td>4</td>\n",
       "      <td>4.0</td>\n",
       "      <td>130.954679</td>\n",
       "    </tr>\n",
       "  </tbody>\n",
       "</table>\n",
       "</div>"
      ],
      "text/plain": [
       "   label  area  centroid-0   centroid-1  axis_major_length  axis_minor_length  \\\n",
       "0      1   818   80.063570  1266.731051          35.040071          31.224062   \n",
       "1      2   735   89.469388  1374.753741          43.489829          23.046311   \n",
       "2      3   777  102.608752  1551.871300          34.768511          29.621879   \n",
       "3      4   235  171.485106  1580.600000          23.340537          13.144388   \n",
       "4      5  1282  224.416537  1096.703588          59.640729          28.771840   \n",
       "\n",
       "   frame  pos strain                condition  colony_id  col_idx  \\\n",
       "0      0    0    SA1  JE2RFP_gltTGFP_PAO1_TSB          0      0.0   \n",
       "1      0    0    SA1  JE2RFP_gltTGFP_PAO1_TSB          1      1.0   \n",
       "2      0    0    SA1  JE2RFP_gltTGFP_PAO1_TSB          2      2.0   \n",
       "3      0    0    SA1  JE2RFP_gltTGFP_PAO1_TSB          3      3.0   \n",
       "4      0    0    SA1  JE2RFP_gltTGFP_PAO1_TSB          4      4.0   \n",
       "\n",
       "   min_dist_PA_centroid  \n",
       "0            180.846496  \n",
       "1            224.546857  \n",
       "2            105.645573  \n",
       "3             88.521595  \n",
       "4            130.954679  "
      ]
     },
     "execution_count": 2,
     "metadata": {},
     "output_type": "execute_result"
    }
   ],
   "source": [
    "#set path to output csv files\n",
    "path_data_files = pathlib.Path() \n",
    "\n",
    "#set filenames\n",
    "exp_name = \"20230411\"\n",
    "\n",
    "#read data\n",
    "csv_name = path_data_files / f\"{exp_name}_all_data.csv\"\n",
    "df_all = pd.read_csv(csv_name, index_col=0)\n",
    "df_all['colony_id'] = df_all['col_idx'].astype(int) #temp needed to fix bug in test data\n",
    "df_all.head()"
   ]
  },
  {
   "attachments": {},
   "cell_type": "markdown",
   "metadata": {},
   "source": [
    "We now remove the PA data, as we only care about SA growth. \n",
    "\n",
    "We also removed untracked colonies. \n",
    "\n",
    "Finally we create a unique id for each colony by combining pos with colony_id\n",
    "\n",
    "Then we plot number of colonies as function of time, to choose the final time point to analyze (before too many colonies merge)"
   ]
  },
  {
   "cell_type": "code",
   "execution_count": 3,
   "metadata": {},
   "outputs": [],
   "source": [
    "df = df_all.loc[(~(df_all['strain']=='PA')) & (df_all['colony_id']>=0)]\n",
    "\n",
    "df['poscol_id'] = df['PositionIdx'].map(str) + '-' + df['ChannelIdx'].map(str) + '-' + df['BacteriaLineage'].map(str)\n",
    "\n",
    "\n"
   ]
  },
  {
   "cell_type": "code",
   "execution_count": 7,
   "metadata": {},
   "outputs": [
    {
     "data": {
      "text/plain": [
       "<seaborn.axisgrid.FacetGrid at 0x2882c2c40>"
      ]
     },
     "execution_count": 7,
     "metadata": {},
     "output_type": "execute_result"
    },
    {
     "data": {
      "application/vnd.jupyter.widget-view+json": {
       "model_id": "bc82b208ead34e0e9d8241a302983179",
       "version_major": 2,
       "version_minor": 0
      },
      "image/png": "[encoded data removed]",
      "text/html": [
       "\n",
       "            <div style=\"display: inline-block;\">\n",
       "                <div class=\"jupyter-widgets widget-label\" style=\"text-align: center;\">\n",
       "                    Figure\n",
       "                </div>\n",
       "                <img src='data:image/png;base64,iVBORw0KGgoAAAANSUhEUgAAAUQAAADYCAYAAACTOZpKAAAAOXRFWHRTb2Z0d2FyZQBNYXRwbG90bGliIHZlcnNpb24zLjUuMiwgaHR0cHM6Ly9tYXRwbG90bGliLm9yZy8qNh9FAAAACXBIWXMAAAsTAAALEwEAmpwYAAAgU0lEQVR4nO3dd5xU5dn/8c93d6kiRZpUQSUovSzYE7BiNFEREFsA44N5gj+jpqhJjGn6U4kmMQqGKIIREQSNXVFsCAgC0psgSJWiAlIF9nr+OGfNuM4uu8PMnNmd6/16zWtn7tOuOTtzzX3Ouc99y8xwzjkHOVEH4JxzmcITonPOhTwhOudcyBOic86FPCE651zIE6JzzoU8ITrnXMgTonPOhTwhOudcyBOic86FPCE651zIE2I5ImmUpD7h80cktQmf/7rIfNMiiK2FpIXh8x6StkuaG/M4W1IzSW9JWiJpkaSfxSw/StKqcN55ks6Kmfa2pGUx6yrcBwfD1wslPS2pegJxx+7TGwvXIWlGuO41krbEbLuFpBqShktaKelDSbMl/U/MfthT5L1XljQwZj2LC+cvJqZi55V0iSSTdEKRZU6XNFPS0vAxOGbadyXNkXSg8L0Ws932MTF/HvP/eENSjqQHwn29QNIHklqGy60Oy+aGfy8q6/8hY5iZP8rJAxgF9IlTvjMDYmsBLAyf9wBejDNPI6BL+PxIYDnQpuh7A3oCH8Us9zaQX9L7BsYANx/OPgVWA/WKTB8IPFik7CngLiAnfF0fuKXofihuPUADYAvQsJiYip0XGA9MAX4fM//RwJqYfVsPmA1cEBNTB+DxeJ+f0nzWgMuBCTHvuSlQp+h+A1oDn0T9eUz04TXEFJH0I0nzw9rOv8OyYyRNDssnS2oelo8Kf32nSfo4psYiSQ+GtYSXCL4chet/W1K+pLuBauGv85hw2s6Y5YfG/KpfFpb3CJefENYmxkhSqveJmW00sznh8y+BJUCTOLNOL6a8JFOA44ubKOn28L2+LmmspF8UmX4D0Bh4S9JbJaznOKA78FszKwjfyxYzu6e0gZrZZmAlcExZ5pVUAzgN+DHQP2a2IcComH27FfgVcGv4erWZzQcKShtjHI2AjTHveZ2ZfRFnvppAvPJyIS/qACoiSW2B3wCnmdlWSUeFkx4EHjez0ZKuAR4ALg6nNQJOB04Anif4Nb6E4Be3PdAQWAyMjN2Wmd0q6Xoz6xQnlN5AJ6AjQa3hA0nvhtM6A22BDcBUgi/ae0Xexy+BK+Os910zu+EQu+EMSXNjXl9qZitj1t0ijGFGnGV7Af8pUjZG0p7w+Vlm9lnMuvKA84FX4wUiKR+4NNxeHjCHoAb1NTN7QNLNQM8woRSnLTCvMDEU47iY9z7VzIYUiedY4FhgRQnriDfvxcCrZrY8PKTtEibBtsDoIovOCsuTZTzwnqQzgMnAE2b2Ycz0t8If1WOBfkncblp5QkyNM4EJhV8sM/s8LD+FIEkB/Bu4N2aZ/4RfssWSGoZl3wXGmtlBYIOkN8sYx+kxy2+S9A7QDdgBzDSzdQDhl7cFRRKimQ0FhpZxm4WmmNmF8SaENZ2JwI1mtiNm0lBJ9xLUhE8ustiVZjarSFm1mMQzBXi0mFhOB54zsz3h9l8o/dsomaTfAH2BBmbWOCxeWcwP1GWSTgf2AdfFfC7i+da8ki4H/hZOf4rgMHYOICBex6ZJ6+zUzNZJak3w2T4TmCypr5lNDmfpGf74HxdOe9vMdiZr++niCTE1ivuAFhU7z74iy8ebJ5E4ihO7vYPE+SwcZg0xfkBSJYJkOMbMniky+ZfAM8ANBDWerodY3Z5iEs+3NlvWOEuwGOgoKcfMCszsTuDOwtMUhzDOzK4v5Xa+Ma+kugSJqJ0kA3IBk/QrYBGQT3BkUahrGGvSmNk+4BXgFUmbCGqsk4vMszKc1gaYmcztp4OfQ0yNyUC/8ENMzCHzNP577udKitTI4ngX6C8pV1IjgosN8ewPE0285S8Ll69PUOMs9YfUzIaaWac4j0SToQhqcUvM7P5itlkA/B3IkXReItuJ4z3gB5KqhrXTC4qZ70uCiz3FMrMVBIejf5aUCyCpKslNuvH0ITjdcoyZtTCzZsAqgtrvQ8BASZ3CeOoC9/DNI5DDIqmLpMbh8xyCizSfxJmvAdAy3rTywBNiCpjZIuBO4B1J84DCL/8NwCBJ84GrgZ8Vs4pCzwIfAQuA4cA7xcw3AphfeFGlyPLzgXnAm8CvzOzTMr6d0srjm7XOM/TNpid9CM5TXg2cGVP+/aIrsuBy5Z8JLgwcNjP7gKD2NI+gBjoL2B5n1hEEtZ9iL6qErgXqAiskzQbeAG5JRqwluJzg/xlrInCFmW0ErgL+JWkpwQ/vSDN7AUBSN0nrCA7t/ylpUQLbbwC8oKBp1XzgAME58UJvhacv3gJuNbNNCWwjcgovlTt3WBS0PbvSzDLyhLqkGma2U0E7w3eBwYVXZZ0r5OcQ3WGT9EfgIoL2c5lqhIKG7FWB0Z4MXTxeQ3QVRnjubHKcSd9oppMpJA3i26dNvtVMJ0Xbbk/Q0iHWPjM7KdXbzmSeEJ1zLuQXVZxzLlShziH26tXLXn017s0KzrnsVeomURWqhrh1a0l3XDnnXMkqVEJ0zrnD4QnROedCnhCdcy5UoS6qlMWqrbs4WJBY93B1qlembo0qSY7IORe1rE2I/f45nS1f7jv0jHFUyhVD+3Tk4s5l7cPUOZfJsjYh3nlxO/YdSKyG+OSMNdw4bi7rt+3hpz2OIw2dTTvn0iBrE+K5bY9OeNnz2h7NLRPnM/S1Zaz7Yjd/uqgdebl+Ota58i5t32JJIyVtDrsPKjrtFwpGEqsXU3abpBUKRltLVr94SVE5L4f7+3Xk+p7HM3bmWn48ehY79x2IOizn3GFKZ7VmFMFYGd8gqRlwDsGoYYVlbQg6Um0bLjOssDPOTCGJX5zXmrt7t+e9FVvp9/B0Nu3YG3VYzrnDkLaEaGbvAvHGkPgrQUegsb1MXAQ8ZWb7zGwVwQA73VMfZdn1796cRwfk88lnu7jkoaks+/TLqENyziUo0hNfkn4IrDezeUUmNQHWxrxeR9mHpUybHq0bMO66UzhQYPQZPo1pK/wWQufKo8gSYthz8W+A38WbHKcsbj9lkgZLmiVp1pYtW5IZYpm0a1KLZ4ecRqPaVRnw2EyembMuslicc4mJsoZ4HMFgNPMkrQaaAnMkHU1QI2wWM29TgvGDv8XMRphZvpnl169fP8Uhl6xJ7Wo8/ZNTyT/mKG4eP49/TP4I72/SufIjsoRoZgvMrEE4glgLgiTYJRwE6XmC0eaqSGoJtKKcDGlYq1olRl/Tnd6dm3Df68u5deIC9h9MrL2jcy690tYOUdJYoAdQLxwB7A4zizuwuJktkjSeYFzZA8CQcLD1cqFyXg739etI0zrVeODNFWzcsZdhV3ahRpWsbfbpXLlQoYYQyM/Pt1mzZkUdxjeM/2Attz27gNYNj+SxQd1oWLNq1CE5l21KfSuZV1lSrF+3ZjSsVZWfPjGbix+aysWdm6R8RHOXPB2b1ea8w7iryZUvXkNMk0UbtjNkzBzWb9sTdSiulAoMDhYYjw3qRs/WDaIOxyWu1HUQT4jOFWPv/oNc/NBUPt2xl5duOIMmtatFHZJLTHaOqeJcMlWtlMvwq7py4KAxZMwcvkqwdyRXfnhCdK4ELesdwdA+HZi7dht3vbwk6nBcinlCdO4Qzm/fiEGntWDUtNW8NH9j1OG4FPKE6Fwp3Hb+iXRuXptbJs7n4y07ow7HpYgnROdKoXJeDg9e0YW8XPHTMXPY81W5uU/AlYEnROdKqUntavztsk4s2/Qlv3vuW/0cuwrAG2Y7VwY9Wjfg+p7H8483V9DlmDr8oGPjqEMqlRxB9cr+dT8Ub4foXBkdLDCufnQG01Z+FnUoZXLlSc35ww/bZuP4P37rnnOpkpsjhl/Vlf98uL7ctE38eOsuxsxYw4Zte3jwii4c4R2NxOV7xbkE1KpWiQGntog6jDJp36QWtz+3kMtGTGfkgG408I5GviXr6s7OZasrTmrOIwPy+XjLLi4ZNo3lm3z8n6I8ITqXRXq2bsD4607hq4MFXDp8GtNW+vg/sTwhOpdl2jWpxbM/PZWja1ZlwMiZPPuhj/9TyBOic1moaZ3qTPjfU+l6TB1uGjePB9/08X/AE6JzWatw/J+LOzXmL5OWc9szPv6PX2V2LotVycvlr5d1ommd6jz41go2bt/LQ1k8/o/XEJ3LcpL4xXmtubt3e95bsZV+D09n0469UYcVCU+IzjkA+ndvzqMD8vnks11c8tBUln2afc1yPCE6577Wo3UDxl13CgcKjD4PT2PaiuxqlpO2hChppKTNkhbGlA2VtFTSfEnPSqodM+02SSskLZN0XrridC7btWtSi2eHnEajWlUZ8NhMnpmTPc1y0llDHAX0KlL2OtDOzDoAy4HbACS1AfoDbcNlhknKTV+ozmW3JrWr8fRPTqVbi6O4efw8/jE5O5rlpC0hmtm7wOdFyiaZ2YHw5ftA0/D5RcBTZrbPzFYBK4Du6YrVORc0yxk1qDu9OzfhvteXc+vEit8sJ5OurV8DjAufNyFIkIXWhWXOuTSqnJfDff060rRONR54cwUbd+zloSs6c2TVSlGHlhIZcVFF0m+AA8CYwqI4s8Wtr0saLGmWpFlbtmxJVYjOZS1J3Hxua+65tD1TV2yl3z/f59PtFbNZTuQJUdIA4ELgSvvvSYp1QLOY2ZoCG+Itb2YjzCzfzPLr16+f2mCdy2KXdWvOyIHdWPPZLi4ZNpWln+6IOqSkizQhSuoF3AL80Mx2x0x6HugvqYqklkArYGYUMTrn/ut736nP+J+cwsECo+/w6UytYM1y0tnsZiwwHWgtaZ2kHwMPAkcCr0uaK+lhADNbBIwHFgOvAkPMzIc5cy4DtG0cNsupHfSWM2F2xWmW42OqOOcSsn3Pfv73idlMW/kZN539HW4463ikUg9fkk6lDiryc4jOufIptlnOX99Yzi0T55f7ZjmZ1OzGOVfOfKtZzva9DLuyS7ltluM1ROfcYSlslnPvpR2YtvIz+j48vdw2y/GE6JxLin7dmjFyYDfWfr673DbL8YTonEuawmY5BRY0y/nnOyvZvnt/1GGVml9lds4l3YZte/jlhHlMXfEZ1Srl0qdrUwae1oLj6teIIpxSX2X2hOicS5nFG3bw2NRVPDd3A18dLKBn6/oMOq0lZ7Sql84mOp4QnXOZY+vOfTw5Yw2PT/+ErTv30apBDe68pD3dWx6Vjs17QnTOZZ59Bw7y0vyN3DdpOQCTf/49qlZKeVen3jDbOZd5quTl0rtLU4b27cD6bXt49L1VUYf0DZ4QnXNpd+px9TivbUMeemtFRo3w5wnROReJX3//RPYfLGDoa8uiDuVrnhCdc5E4pu4RXHNaSybMXseCddujDgfwhOici9D1Zx5PvRqV+cMLizJiECtPiM65yBxZtRI/P7c1sz75gpcWbIw6HE+Izrlo9ctvxomNavL/X17K3v3R9gPtCdE5F6ncHHH7hSeyftseHpnycaSxeEJ0zkWusBnOsLdXRtoMp8wJUVJDSY9KeiV83SYcH8U55xL26++fyIGDFmkznERqiKOA14DG4evlwI1Jisc5l6WOqXsEg05vwYTZ65i/blskMSSSEOuZ2XigAMDMDgA+Ip5z7rBd3zNohvOTf89m1NRV7Nx3IK3bTyQh7pJUFzAASScDmdGq0jlXrh1ZtRLDr+rK0bWq8vsXFnPKXZP584uLWfv57kMvnARl7u1GUlfgAaAdsBCoD/Q1s3nJD69svLcb5yqOD9d8wWNTV/Pygo0UmHFum6O55vSWdGtRp6x9Kaa2+y9JeUDrcEPLzOyQfYRLGglcCGw2s3Zh2VHAOKAFsBroZ2ZfhNNuA35McDh+g5m9dqhteEJ0ruLZuH0P/57+CU/OXMO23ftp16QmIwd2o8GRVUu7itR1/yVpJXCtmS0ys4Vmtl/Si6VYdBTQq0jZrcBkM2sFTA5fI6kN0B9oGy4zTFLKO01zzmWeRrWq8ateJzD91rO465L2NK5Vjfo1qqRkW4mcQ9wP9JT0mKTKYVmTQy1kZu8CnxcpvggYHT4fDVwcU/6Ume0zs1XACqB7ArE65yqIapVzueKk5oz4UX7Khh9IJCHuNrPLgCXAFEnHEF5gSUBDM9sIEP5tEJY3AdbGzLeOUiTdUtu/B168CeY+mbRVOufKv7wElhGAmd0raTZBm8RkD4wQL/3HTbqSBgODAZo3b166tedVhU8XwNKX4MQfQJUjE43TOVeBJFJD/F3hEzObDJwHPJjg9jdJagQQ/t0clq8DmsXM1xTYEG8FZjbCzPLNLL9+/fql26oEve6GnZtgyv0Jhu6cq2hKnRAlnRA+XS+pS+EDqAuU5qJKPM8DA8LnA4DnYsr7S6oiqSXQCpiZ4Dbia5oPHS6D6Q/BF6uTumrnXPlUlkPmmwkOTe+LKYs9jD2zpIUljQV6APUkrQPuAO4Gxof3Qq8B+gKY2SJJ44HFwAFgiJkl/26Ys+6AJS/A67+Dfo8nffXOufIlkYbZ/YBXzWyHpNuBLsCfzGxOKgIsi4TaIb59D7x9Fwx8GVqclprAnHNRSukwpL8Nk+HpwDkE7QuHJ7CezHDq/4OaTeHVW6HAb8l2LpslkhALs8YFwMNm9hxQuYT5M1vl6nDOH+DT+d4Mx7ksl0hCXC/pn0A/4GVJVRJcT+Zodyk07Q6T/wj7vow6GudcRBJJZP0I2h72MrNtBG0Qf5nMoNKusBnOrs0w5b5Dz++cq5DKnBDNbLeZPWNmH4WvN5rZpOSHlmZNu0KH/t4Mx7ksVr4PdZPt7DsgJw8m3R51JM65CHhCjFWzMZx+Eyx5Hla/F3U0zrk084RYVGEznPED4J2hsGtr1BE559LEE2JRlarB5U9Co47w1p/h/jbw3PWwaVHUkTnnUiyhHrMzVdJ7zN68FGY8DPOeggN7oOX34OSfQqtzIcd/S5wrJ1I7hECmStkQArs/h9mjYOa/4MsNUL0uVKoef95K1eC8u6DVOcmPwzmXCE+IKXFwPyx+Dj5+C4rbb+vnwNblcMF9kD8odbE450qr1AkxkQ5is1duJWjfJ3gUZ99OeHogvHgjbF8LZ94eNPx2zmU8PxGWbFVqwOVPQdeBwV0vz/wPHNgXdVTOuVLwGmIq5ObBhX+D2s2D+6N3bIT+T0C1OlFH5pwrgdcQU0WCM34OvR+BtTPg0fNg25qoo3LOlcATYqp16AtXPws7P4VHzvb2jM5lME+I6dDyDLhmEigHxl4Oe76IOiLnXByeENOlwQnBuC071sN/hhTfbMc5FxlPiOnUrDuc8ydY9hJM+0fU0TjnivCEmG4n/y+c+EN44/fwyfSoo3HOxfCEmG4SXPQg1DkGJgyCnVuijsg5F/KEGIWqtaDv6OAe6Weu9dH+nMsQGZEQJd0kaZGkhZLGSqoq6ShJr0v6KPxbsVo1N+oA3x8KH78N79wTdTTOOTIgIUpqAtwA5JtZOyAX6A/cCkw2s1bA5PB1xdLlR9DxCnjnXlgxOeponMt6mXLrXh5QTdJ+oDqwAbgN6BFOHw28DdwSRXApIwW94mycCxOvhUGvBF2LlVWlasE91M65wxJ5QjSz9ZL+AqwB9gCTzGySpIZmtjGcZ6OkBpEGmiqVqwftE0f0gGEnJbaOnEpwwV+CDiWccwmLPCGG5wYvAloC24CnJV1VhuUHA4MBmjdvnooQU69eK7jmNViTYDOcZS/DCz8L7pX27sacS1jkCRE4G1hlZlsAJD0DnApsktQorB02AjbHW9jMRgAjIOggNk0xJ9/R7YJHIroOhJduDrob27YWLnoI8ionNTznskHkF1UIDpVPllRdkoCzgCXA88CAcJ4BwHMRxZf5civBDx4IaocLxsMTvWHPtqijcq7ciTwhmtkMYAIwB1hAENMI4G7gHEkfAeeEr11xJPjuL6D3v2DN+zDSuxtzrqx8TJWKaNW78NRVUKkqXDEeGneKOiLnouSDTGW9zUtgTF/Y/Rkc3T7qaJKjTgs4/x7vedyVlQ8ylfUanAjXvgGv/QZ2b406msNnBgufgQ1z4cqng3vBnUsyryG68mPVFBh3JeRVhSvGQePOUUfkyodS1xAjv6jiXKkV9jyeWwUeuwCWT4o6IlfBeEJ05UuDE4JTAfWOh7GXwayRUUfkKhBPiK78ObIhDHwZjj8HXrwp6Gy3oCDqqFwF4BdVXPlUpQb0fxJe+SW891fY+hE0Pzn526nZBE640O/8yRKeEF35lZsHF9wPtZvD5D/B0hdTs50aR0P3a6HrIDiiXmq24TKCX2V2FcP+PVBwILnrNIO1M+H9YbBycnAxp0O/YFychm2Tuy2XSt4w27mk2rwUZjwM856CA3ug5feg89VQtWZ646jZJPFOQLKXJ0TnUmL35zBnNMz8VzDGdtoJzv0znDLEu3krPU+IzqXUwf2waRFYGgcIM2Da32Hxc9B9MPS6G3Jy07f98stv3XMupXIrRdNpRp9R8MbvYNo/YPt6uPSRoNd1lxTeDtG58iQnJzhkPn9o0FP66At9bO8k8oToXHl00mDoPwY2LYZHzgraYbrD5gnRufLqhAtg4Evw1S549Bz4JMExedzX/Byic+VZ067Bvd1j+sBjvYIRGONRDhzXM2hD2fJ7foW6GH6V2bmKYPfn8MGjsH93/Olf7YKFE4O+MRu0CRJj+77BmN4Vnze7cc4VsX8vLJwA7w+HTQuhel3Ivwa6XQtHHh11dKnkCdE5VwwzWD0lSIzLXoGcPGjXO6g1VsxOd70donOuGBK0/G7w+GwlzBwBHz4B88dB81OCxNj6gqDzjCzjNUTnHOzdHiTFGQ8Hw9fWah407el8NVSrHXV0h6t8DSEgqbakCZKWSloi6RRJR0l6XdJH4V8fas25VKlaK7g/+oa5cNmYoEu1Sb+F+9vA63fAwST3JJShMiIhAn8HXjWzE4COwBLgVmCymbUCJoevnXOplJMLJ14Ig16C694N2jpO/RuM7Q/7vow6upSL/JBZUk1gHnCsxQQjaRnQw8w2SmoEvG1mrUtalx8yO5cCsx6Dl34e9AF5xXio2SjqiMqqXB0yHwtsAR6T9KGkRyQdATQ0s40A4d8GUQbpXNbKHxQM+/rZyuCOmM1Loo4oZTIhIeYBXYDhZtYZ2EUZDo8lDZY0S9KsLVv8JnfnUqLVOTDoZTj4FTx6Hqx6N+qIUiITEuI6YJ2ZzQhfTyBIkJvCQ2XCv5vjLWxmI8ws38zy69evn5aAnctKjTsFtwnWbAT/7g3zxkUdUdJF3tDIzD6VtFZSazNbBpwFLA4fA4C7w7/PRRimcw6Cq8/XvAbjroJnB8PmxdCoQ/rjaHNxSjrHjfyiCoCkTsAjQGXgY2AQQe11PNAcWAP0NbPPS1qPX1RxLk0OfAXPXx805o7CbzdDXpXSzu237jnnUswMvlgdnFdMt7qtgs5yS8dv3XPOpZgER7WMOoqkyoSLKs45lxE8ITrnXMgTonPOhTwhOudcqEJdZZa0BfikDIvUA7amKJxEeDwl83hKlmnxQGbEtNXMepVmxgqVEMtK0iwzy486jkIeT8k8npJlWjyQmTGVxA+ZnXMu5AnROedC2Z4QR0QdQBEeT8k8npJlWjyQmTEVK6vPITrnXKxsryE659zXsjIhSuolaZmkFZIyYqwWSaslLZA0V1Lae6iQNFLSZkkLY8oiG+irmHh+L2l9uI/mSvp+GuNpJumtcBC0RZJ+FpZHso9KiCeSfSSpqqSZkuaF8fwhLC9Xg8Vl3SGzpFxgOXAOQee0HwCXm9niiONaDeSbWSRttiR9F9gJPG5m7cKye4HPzezu8IejjpndEmE8vwd2mtlf0hFDkXgaAY3MbI6kI4HZwMXAQCLYRyXE048I9pEkAUeY2U5JlYD3gJ8BvYnoM5SIbKwhdgdWmNnHZvYV8BRwUcQxRc7M3gWK9jd5ETA6fD6a4AsXZTyRMbONZjYnfP4lwciQTYhoH5UQTyQssDN8WSl8GBF+hhKRjQmxCbA25vU6IvwgxTBgkqTZkgZHHUwoEwf6ul7S/PCQOpLDL0ktgM7ADDJgHxWJByLaR5JyJc0lGO7j9XBYkMj3T1lkY0KM11lkJpw3OM3MugDnA0PCQ0b3TcOB44BOwEbgvnQHIKkGMBG40cx2pHv7pYgnsn1kZgfNrBPQFOguqV26tp0s2ZgQ1wHNYl43BTZEFMvXzGxD+Hcz8CzBoX3USjXQV7qY2abwS1cA/Is076Pw3NhEYIyZPRMWR7aP4sUT9T4KY9gGvA30IsM+Q4eSjQnxA6CVpJaSKgP9geejDEjSEeGJccIxqc8FFpa8VFo8TzDAF2TAQF+FX6zQJaRxH4UXDR4FlpjZ/TGTItlHxcUT1T6SVF9S7fB5NeBsYCkZ9hk6lKy7ygwQNkX4G5ALjDSzOyOO51iCWiEEwzo8me6YJI0FehD0TrIJuAP4D2Uc6CvF8fQgOBQ0YDVwXeH5qTTEczowBVgAFITFvyY4b5f2fVRCPJcTwT6S1IHgokku4QBxZvZHSXWJ6DOUiKxMiM45F082HjI751xcnhCdcy7kCdE550KeEJ1zLuQJ0TnnQp4QXcaTdEPYq8uYqGNxFZs3u3EZT9JS4HwzWxVTlmdmByIMy1VAXkN0GU3Sw8CxwPOStksaIWkS8LikFpKmSJoTPk4Nl+kh6R1J4yUtl3S3pCvD/voWSDounK++pImSPggfp0X4Vl0G8Bqiy3iFfUUC1wM/AE43sz2SqgMFZrZXUitgrJnlS+pBcJfNiQRdiH0MPGJmd4QdqbY0sxslPQkMM7P3JDUHXjOzE9P9/lzmyIs6AOfK6Hkz2xM+rwQ8KKkTcBD4Tsx8HxTesiZpJTApLF8A9Ayfnw20CW4LBqCmpCPD/gVdFvKE6MqbXTHPbyK4z7kjwemfvTHT9sU8L4h5XcB/P/c5wCkxCdZlOT+H6MqzWsDGsKurqwk6FiiLSQSH4QCENU2XxTwhuvJsGDBA0vsEh8u7DjF/UTcA+WHv0ouBnyQ7QFe++EUV55wLeQ3ROedCnhCdcy7kCdE550KeEJ1zLuQJ0TnnQp4QnXMu5AnROedCnhCdcy7kCdE550KeEJ1zLuQJ0TnnQp4QnXMu9H8j5V7ARP+E+gAAAABJRU5ErkJggg==' width=324.0/>\n",
       "            </div>\n",
       "        "
      ],
      "text/plain": [
       "Canvas(toolbar=Toolbar(toolitems=[('Home', 'Reset original view', 'home', 'home'), ('Back', 'Back to previous …"
      ]
     },
     "metadata": {},
     "output_type": "display_data"
    }
   ],
   "source": [
    "col_num_t = df.groupby(['strain','frame','condition'], as_index=False).size()\n",
    "g = sns.FacetGrid(data=col_num_t, col='condition',hue='strain',aspect=1.5)\n",
    "g.map_dataframe(sns.lineplot, x='frame', y='size')"
   ]
  },
  {
   "attachments": {},
   "cell_type": "markdown",
   "metadata": {},
   "source": [
    "Amove we start to see a lot of colony mergers after t=26, so let's calculate the growth rate between t=0 and t=26."
   ]
  },
  {
   "cell_type": "code",
   "execution_count": 8,
   "metadata": {},
   "outputs": [],
   "source": [
    "def derivative(y, frm_interval=1, log = False):\n",
    "    if y.size > 2:\n",
    "        y = np.log(y) if log else y\n",
    "        x = np.arange(y.size) * frm_interval\n",
    "        p = np.polyfit(x, y, 1) #simply 1st order polynomial fit / regression (numpy.polyfit)\n",
    "        ddt = p[0] #slope of first order fit in python p[0]\n",
    "    else: \n",
    "        ddt = np.nan \n",
    "    return ddt "
   ]
  },
  {
   "cell_type": "code",
   "execution_count": null,
   "metadata": {},
   "outputs": [],
   "source": [
    "mu = df.groupby('lin_id_str')['Spinelength'].rolling(3, min_periods=2, center=True).apply(derivative, kwargs={'frm_interval':frm_interval, 'log':True}).reset_index(0,drop=True)\n",
    "df['mu'] = mu"
   ]
  }
 ],
 "metadata": {
  "kernelspec": {
   "display_name": "i2i_env",
   "language": "python",
   "name": "python3"
  },
  "language_info": {
   "codemirror_mode": {
    "name": "ipython",
    "version": 3
   },
   "file_extension": ".py",
   "mimetype": "text/x-python",
   "name": "python",
   "nbconvert_exporter": "python",
   "pygments_lexer": "ipython3",
   "version": "3.9.13"
  },
  "orig_nbformat": 4
 },
 "nbformat": 4,
 "nbformat_minor": 2
}
