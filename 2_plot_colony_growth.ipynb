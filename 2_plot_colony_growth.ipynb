{
 "cells": [
  {
   "attachments": {},
   "cell_type": "markdown",
   "metadata": {},
   "source": [
    "# Plot colony growth rate of Staph-Pseudomonas co-culture"
   ]
  },
  {
   "cell_type": "code",
   "execution_count": 1,
   "metadata": {},
   "outputs": [],
   "source": [
    "#next two lines make sure that Matplotlib plots are shown properly in Jupyter Notebook\n",
    "%matplotlib inline\n",
    "%config InlineBackend.figure_format = 'retina'\n",
    "\n",
    "#main data analysis packages\n",
    "import numpy as np\n",
    "import seaborn as sns\n",
    "import pandas as pd\n",
    "\n",
    "#path handling\n",
    "import pathlib"
   ]
  },
  {
   "attachments": {},
   "cell_type": "markdown",
   "metadata": {},
   "source": [
    "## Load data"
   ]
  },
  {
   "cell_type": "code",
   "execution_count": 31,
   "metadata": {},
   "outputs": [
    {
     "data": {
      "text/html": [
       "<div>\n",
       "<style scoped>\n",
       "    .dataframe tbody tr th:only-of-type {\n",
       "        vertical-align: middle;\n",
       "    }\n",
       "\n",
       "    .dataframe tbody tr th {\n",
       "        vertical-align: top;\n",
       "    }\n",
       "\n",
       "    .dataframe thead th {\n",
       "        text-align: right;\n",
       "    }\n",
       "</style>\n",
       "<table border=\"1\" class=\"dataframe\">\n",
       "  <thead>\n",
       "    <tr style=\"text-align: right;\">\n",
       "      <th></th>\n",
       "      <th>label</th>\n",
       "      <th>area</th>\n",
       "      <th>centroid-0</th>\n",
       "      <th>centroid-1</th>\n",
       "      <th>axis_major_length</th>\n",
       "      <th>axis_minor_length</th>\n",
       "      <th>frame</th>\n",
       "      <th>pos</th>\n",
       "      <th>strain</th>\n",
       "      <th>condition</th>\n",
       "      <th>colony_id</th>\n",
       "      <th>col_idx</th>\n",
       "      <th>min_dist_PA_centroid</th>\n",
       "    </tr>\n",
       "  </thead>\n",
       "  <tbody>\n",
       "    <tr>\n",
       "      <th>0</th>\n",
       "      <td>1</td>\n",
       "      <td>818</td>\n",
       "      <td>80.063570</td>\n",
       "      <td>1266.731051</td>\n",
       "      <td>35.040071</td>\n",
       "      <td>31.224062</td>\n",
       "      <td>0</td>\n",
       "      <td>0</td>\n",
       "      <td>SA1</td>\n",
       "      <td>JE2RFP_gltTGFP_PAO1_TSB</td>\n",
       "      <td>-1</td>\n",
       "      <td>0.0</td>\n",
       "      <td>180.846496</td>\n",
       "    </tr>\n",
       "    <tr>\n",
       "      <th>1</th>\n",
       "      <td>2</td>\n",
       "      <td>735</td>\n",
       "      <td>89.469388</td>\n",
       "      <td>1374.753741</td>\n",
       "      <td>43.489829</td>\n",
       "      <td>23.046311</td>\n",
       "      <td>0</td>\n",
       "      <td>0</td>\n",
       "      <td>SA1</td>\n",
       "      <td>JE2RFP_gltTGFP_PAO1_TSB</td>\n",
       "      <td>-1</td>\n",
       "      <td>1.0</td>\n",
       "      <td>224.546857</td>\n",
       "    </tr>\n",
       "    <tr>\n",
       "      <th>2</th>\n",
       "      <td>3</td>\n",
       "      <td>777</td>\n",
       "      <td>102.608752</td>\n",
       "      <td>1551.871300</td>\n",
       "      <td>34.768511</td>\n",
       "      <td>29.621879</td>\n",
       "      <td>0</td>\n",
       "      <td>0</td>\n",
       "      <td>SA1</td>\n",
       "      <td>JE2RFP_gltTGFP_PAO1_TSB</td>\n",
       "      <td>-1</td>\n",
       "      <td>2.0</td>\n",
       "      <td>105.645573</td>\n",
       "    </tr>\n",
       "    <tr>\n",
       "      <th>3</th>\n",
       "      <td>4</td>\n",
       "      <td>235</td>\n",
       "      <td>171.485106</td>\n",
       "      <td>1580.600000</td>\n",
       "      <td>23.340537</td>\n",
       "      <td>13.144388</td>\n",
       "      <td>0</td>\n",
       "      <td>0</td>\n",
       "      <td>SA1</td>\n",
       "      <td>JE2RFP_gltTGFP_PAO1_TSB</td>\n",
       "      <td>-1</td>\n",
       "      <td>3.0</td>\n",
       "      <td>88.521595</td>\n",
       "    </tr>\n",
       "    <tr>\n",
       "      <th>4</th>\n",
       "      <td>5</td>\n",
       "      <td>1282</td>\n",
       "      <td>224.416537</td>\n",
       "      <td>1096.703588</td>\n",
       "      <td>59.640729</td>\n",
       "      <td>28.771840</td>\n",
       "      <td>0</td>\n",
       "      <td>0</td>\n",
       "      <td>SA1</td>\n",
       "      <td>JE2RFP_gltTGFP_PAO1_TSB</td>\n",
       "      <td>-1</td>\n",
       "      <td>4.0</td>\n",
       "      <td>130.954679</td>\n",
       "    </tr>\n",
       "  </tbody>\n",
       "</table>\n",
       "</div>"
      ],
      "text/plain": [
       "   label  area  centroid-0   centroid-1  axis_major_length  axis_minor_length  \\\n",
       "0      1   818   80.063570  1266.731051          35.040071          31.224062   \n",
       "1      2   735   89.469388  1374.753741          43.489829          23.046311   \n",
       "2      3   777  102.608752  1551.871300          34.768511          29.621879   \n",
       "3      4   235  171.485106  1580.600000          23.340537          13.144388   \n",
       "4      5  1282  224.416537  1096.703588          59.640729          28.771840   \n",
       "\n",
       "   frame  pos strain                condition  colony_id  col_idx  \\\n",
       "0      0    0    SA1  JE2RFP_gltTGFP_PAO1_TSB         -1      0.0   \n",
       "1      0    0    SA1  JE2RFP_gltTGFP_PAO1_TSB         -1      1.0   \n",
       "2      0    0    SA1  JE2RFP_gltTGFP_PAO1_TSB         -1      2.0   \n",
       "3      0    0    SA1  JE2RFP_gltTGFP_PAO1_TSB         -1      3.0   \n",
       "4      0    0    SA1  JE2RFP_gltTGFP_PAO1_TSB         -1      4.0   \n",
       "\n",
       "   min_dist_PA_centroid  \n",
       "0            180.846496  \n",
       "1            224.546857  \n",
       "2            105.645573  \n",
       "3             88.521595  \n",
       "4            130.954679  "
      ]
     },
     "execution_count": 31,
     "metadata": {},
     "output_type": "execute_result"
    }
   ],
   "source": [
    "#set path to output csv files\n",
    "path_data_files = pathlib.Path() \n",
    "\n",
    "#set filenames\n",
    "exp_name = \"20230411\"\n",
    "\n",
    "#read data\n",
    "csv_name = path_data_files / f\"{exp_name}_all_data.csv\"\n",
    "df_all = pd.read_csv(csv_name, index_col=0)\n",
    "df_all.head()"
   ]
  },
  {
   "attachments": {},
   "cell_type": "markdown",
   "metadata": {},
   "source": [
    "We now remove the PA data, as we only care about SA growth. \n",
    "\n",
    "We also removed untracked colonies. \n",
    "\n",
    "Then we plot number of colonies as function of time."
   ]
  },
  {
   "cell_type": "code",
   "execution_count": null,
   "metadata": {},
   "outputs": [],
   "source": []
  },
  {
   "cell_type": "code",
   "execution_count": 14,
   "metadata": {},
   "outputs": [],
   "source": [
    "df = df_all.loc[(~(df_all['strain']=='PA')) & (df_all['strain']=='PA')]"
   ]
  },
  {
   "cell_type": "code",
   "execution_count": 30,
   "metadata": {},
   "outputs": [
    {
     "data": {
      "text/plain": [
       "<AxesSubplot:xlabel='frame', ylabel='size'>"
      ]
     },
     "execution_count": 30,
     "metadata": {},
     "output_type": "execute_result"
    },
    {
     "data": {
      "image/png": "[encoded data removed]",
      "text/plain": [
       "<Figure size 432x288 with 1 Axes>"
      ]
     },
     "metadata": {
      "image/png": {
       "height": 262,
       "width": 388
      },
      "needs_background": "light"
     },
     "output_type": "display_data"
    }
   ],
   "source": [
    "col_num_t = df.groupby(['strain','frame'], as_index=False).size()\n",
    "sns.lineplot(data=col_num_t, x='frame', y='size', hue='strain')"
   ]
  },
  {
   "cell_type": "code",
   "execution_count": 29,
   "metadata": {},
   "outputs": [
    {
     "data": {
      "text/plain": [
       "<seaborn.axisgrid.FacetGrid at 0x28c41d250>"
      ]
     },
     "execution_count": 29,
     "metadata": {},
     "output_type": "execute_result"
    },
    {
     "data": {
      "image/png": "[encoded data removed]",
      "text/plain": [
       "<Figure size 432x216 with 2 Axes>"
      ]
     },
     "metadata": {
      "image/png": {
       "height": 207,
       "width": 424
      },
      "needs_background": "light"
     },
     "output_type": "display_data"
    }
   ],
   "source": [
    "g = sns.FacetGrid(data=col_num_t, col='strain')\n",
    "g.map_dataframe(sns.histplineplot, x='frame')"
   ]
  }
 ],
 "metadata": {
  "kernelspec": {
   "display_name": "i2i_env",
   "language": "python",
   "name": "python3"
  },
  "language_info": {
   "codemirror_mode": {
    "name": "ipython",
    "version": 3
   },
   "file_extension": ".py",
   "mimetype": "text/x-python",
   "name": "python",
   "nbconvert_exporter": "python",
   "pygments_lexer": "ipython3",
   "version": "3.9.13"
  },
  "orig_nbformat": 4
 },
 "nbformat": 4,
 "nbformat_minor": 2
}
