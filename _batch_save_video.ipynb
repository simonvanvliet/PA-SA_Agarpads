{
 "cells": [
  {
   "attachments": {},
   "cell_type": "markdown",
   "metadata": {},
   "source": [
    "# Batch process segmentation made with Ilastik"
   ]
  },
  {
   "attachments": {},
   "cell_type": "markdown",
   "metadata": {},
   "source": [
    "This code performs the identical steps as in notebook 3, but in a more streamlined way, allowing for batch processing without visual inspection.\n",
    "\n",
    "The processing functions have been moved to the process_colonies.py script."
   ]
  },
  {
   "cell_type": "code",
   "execution_count": 8,
   "metadata": {
    "tags": [
     "hide-cell"
    ]
   },
   "outputs": [],
   "source": [
    "#main data analysis packages\n",
    "import numpy as np\n",
    "import pandas as pd\n",
    "import dask.array as da\n",
    "\n",
    "#next line is required for Napari\n",
    "%gui qt\n",
    "\n",
    "#image viewer\n",
    "import napari\n",
    "\n",
    "#path handling\n",
    "import pathlib\n",
    "import h5py\n",
    "\n",
    "#dask cash\n",
    "from dask.cache import Cache\n",
    "cache = Cache(4e9)  # Leverage 4 gigabytes of memory\n",
    "cache.register()    # Turn cache on globally\n",
    "\n",
    "import process_colonies as pc"
   ]
  },
  {
   "attachments": {},
   "cell_type": "markdown",
   "metadata": {},
   "source": [
    "## Set Paths and Settings"
   ]
  },
  {
   "cell_type": "code",
   "execution_count": 5,
   "metadata": {},
   "outputs": [],
   "source": [
    "#set path to registered file\n",
    "path_reg_im = pathlib.Path(\"/Users/simonvanvliet/TempData\")\n",
    "\n",
    "#set path to Ilastik output file\n",
    "path_seg_im = pathlib.Path(\"/Users/simonvanvliet/TempData\")\n",
    "\n",
    "#set path to temporary store label images (use local machine folder for speed)\n",
    "temp_data_path = pathlib.Path.home() / 'TempData'\n",
    "temp_data_path.mkdir(exist_ok=True)\n",
    "\n",
    "#set path to output csv files\n",
    "path_data_files = pathlib.Path('/Users/simonvanvliet/TempData/DataFiles/') \n",
    "path_data_files.mkdir(exist_ok=True)\n",
    "\n",
    "#set filenames\n",
    "exp_name_list = [\"20230411\",\"20230427\",\"20230504\"]\n",
    "\n",
    "#specify properties to extract \n",
    "prop_list = ['label', \n",
    "            'area', 'centroid', \n",
    "            'axis_major_length', 'axis_minor_length']\n",
    "\n",
    "#specify processing settings\n",
    "settings = {\n",
    "    'calc_edge_dist'    : True, #set to true to calculate distance between colony edges, more accurate that center to center distance, but very slow\n",
    "    'prop_list'         : prop_list,\n",
    "    #specify the order of the strains in the Ilastik layers\n",
    "    #specify the order of the strains in the Ilastik layers\n",
    "    'idx_SA1'   : 1, #SA1 is GFP\n",
    "    'idx_SA2'   : 0, #SA2 is RFP\n",
    "    'idx_BG'    : 2,\n",
    "    'idx_PA'    : 3,\n",
    "    #specify the segementation processing parameters for pseudomonas\n",
    "    'sigma'             : 1, # sigma for gaussian filter\n",
    "    'threshold_PA'      : 0.5, # threshold for segmentation\n",
    "    'closing_radius_PA' : 5, # radius for closing operation\n",
    "    'min_cell_area_PA'  : 50, # minimum area for a cell to be considered\n",
    "    'max_hole_area_PA'  : 5000, # maximum area for a hole to be filled\n",
    "    #specify the segementation processing parameters for staph\n",
    "    'sigma'             : 2, # sigma for gaussian filter\n",
    "    'threshold_SA'      : 0.5, # threshold for segmentation\n",
    "    'closing_radius_SA' : 5, # radius for closing operation\n",
    "    'min_cell_area_SA'  : 50, # minimum area for a cell to be considered\n",
    "    'max_hole_area_SA'  : 1000, # maximum area for a hole to be filled    \n",
    "    #store path metadata\n",
    "    'temp_path'         : temp_data_path,\n",
    "    'path_seg_im_root'  : path_seg_im,\n",
    "    'path_reg_im_root'  : path_reg_im,\n",
    "    'path_data_files'    : path_data_files,\n",
    "    'exp_name_list'     : exp_name_list\n",
    "}"
   ]
  },
  {
   "attachments": {},
   "cell_type": "markdown",
   "metadata": {},
   "source": [
    "## Loop experiments and positions\n",
    "First make sure that all positions are found"
   ]
  },
  {
   "cell_type": "code",
   "execution_count": 11,
   "metadata": {},
   "outputs": [
    {
     "name": "stdout",
     "output_type": "stream",
     "text": [
      "72\n"
     ]
    }
   ],
   "source": [
    "path_list = [] \n",
    "for exp_name in exp_name_list:\n",
    "    seg_path = settings['path_reg_im_root'] / f'{exp_name}-agar-pad-processed' \n",
    "    pos_list = [f.name for f in sorted(seg_path.glob('*[0-9].h5'))]\n",
    "    \n",
    "    for pos in pos_list:\n",
    "        path_list.append(seg_path / pos)\n",
    "print(len(path_list))"
   ]
  },
  {
   "attachments": {},
   "cell_type": "markdown",
   "metadata": {},
   "source": [
    "now we loop positions, this will take a while"
   ]
  },
  {
   "cell_type": "code",
   "execution_count": 31,
   "metadata": {},
   "outputs": [],
   "source": [
    "phase_all = None\n",
    "for path in path_list:\n",
    "    #load segmented images\n",
    "    im_file = h5py.File(path, 'r') #open \n",
    "    chunk_size = (1, 1,*im_file['images'].shape[-2:])\n",
    "    images = da.from_array(im_file['images'], chunks=chunk_size)\n",
    "    phase = images[:19,:,:,:][np.newaxis,...] \n",
    "    phase_all = da.concatenate((phase_all, phase), axis=0) if phase_all is not None else phase"
   ]
  },
  {
   "cell_type": "code",
   "execution_count": 33,
   "metadata": {},
   "outputs": [],
   "source": [
    "viewer = napari.view_image(phase_all,\n",
    "            channel_axis=2,\n",
    "            name=[\"SA1-RFP\", \"SA2-GFP\", \"PA-Phase\"],\n",
    "            colormap=[\"red\", \"green\", \"gray\"])\n",
    "napari.run()\n",
    "napari.run()"
   ]
  }
 ],
 "metadata": {
  "celltoolbar": "Tags",
  "kernelspec": {
   "display_name": "i2i_env",
   "language": "python",
   "name": "python3"
  },
  "language_info": {
   "codemirror_mode": {
    "name": "ipython",
    "version": 3
   },
   "file_extension": ".py",
   "mimetype": "text/x-python",
   "name": "python",
   "nbconvert_exporter": "python",
   "pygments_lexer": "ipython3",
   "version": "3.9.16"
  },
  "vscode": {
   "interpreter": {
    "hash": "7c6538b57b9d95695cc8c88818812a736980da96b6d92e389fbfaae31437292d"
   }
  }
 },
 "nbformat": 4,
 "nbformat_minor": 4
}
