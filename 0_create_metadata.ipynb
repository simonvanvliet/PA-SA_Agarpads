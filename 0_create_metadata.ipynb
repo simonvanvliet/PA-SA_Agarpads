{
 "cells": [
  {
   "attachments": {},
   "cell_type": "markdown",
   "metadata": {},
   "source": [
    "# Create Agar Pad Dictionaries"
   ]
  },
  {
   "attachments": {},
   "cell_type": "markdown",
   "metadata": {},
   "source": [
    "After a certain timepoint PA single cells leave the colony to explore the surrounding. In following dictionary I \n",
    "store for each position the last frame number until which the movie can be analysed analysed. "
   ]
  },
  {
   "cell_type": "code",
   "execution_count": 2,
   "metadata": {},
   "outputs": [],
   "source": [
    "import pandas as pd"
   ]
  },
  {
   "cell_type": "code",
   "execution_count": 3,
   "metadata": {},
   "outputs": [],
   "source": [
    "agarpad_20230411_frames_dict = {\n",
    "    \"pos000\": 34,\n",
    "    \"pos001\": 35,\n",
    "    \"pos002\": 33,\n",
    "    \"pos003\": 40,\n",
    "    \"pos004\": 54,\n",
    "    \"pos005\": 61,\n",
    "    \"pos006\": 61,\n",
    "    \"pos007\": 61,\n",
    "    \"pos008\": 80,\n",
    "    \"pos009\": 68,\n",
    "    \"pos010\": 80,\n",
    "    \"pos011\": 80,\n",
    "    \"pos012\": 80,\n",
    "    \"pos013\": 80,\n",
    "    \"pos014\": 80,\n",
    "    \"pos015\": 88,\n",
    "    \"pos016\": 80,\n",
    "    \"pos017\": 80,\n",
    "    \"pos018\": 80,\n",
    "    \"pos019\": 80,\n",
    "    \"pos020\": 80,\n",
    "    \"pos021\": 80,\n",
    "    \"pos022\": 80,\n",
    "    \"pos023\": 80\n",
    "}\n"
   ]
  },
  {
   "attachments": {},
   "cell_type": "markdown",
   "metadata": {},
   "source": [
    "The experiments were done on 3 different agar pads conditions (TSB, TSB3h and TSB16h) with 2 combinations of strains (JE2RFP,gltTGFP,PAO1 or JE2GFP,gltRFP,PAO1). Following dictionary stores conditions and strains for each position."
   ]
  },
  {
   "cell_type": "code",
   "execution_count": 4,
   "metadata": {},
   "outputs": [],
   "source": [
    "agarpad_20230411_conditions_dict = {\n",
    "    \"pos000\": \"JE2RFP_gltTGFP_PAO1_TSB\",\n",
    "    \"pos001\": \"JE2RFP_gltTGFP_PAO1_TSB\",\n",
    "    \"pos002\": \"JE2RFP_gltTGFP_PAO1_TSB\",\n",
    "    \"pos003\": \"JE2RFP_gltTGFP_PAO1_TSB\",\n",
    "    \"pos004\": \"JE2GFP_gltTRFP_PAO1_TSB\",\n",
    "    \"pos005\": \"JE2GFP_gltTRFP_PAO1_TSB\",\n",
    "    \"pos006\": \"JE2GFP_gltTRFP_PAO1_TSB\",\n",
    "    \"pos007\": \"JE2GFP_gltTRFP_PAO1_TSB\",\n",
    "    \"pos008\": \"JE2RFP_gltTGFP_PAO1_TSB3h\",\n",
    "    \"pos009\": \"JE2RFP_gltTGFP_PAO1_TSB3h\",\n",
    "    \"pos010\": \"JE2RFP_gltTGFP_PAO1_TSB3h\",\n",
    "    \"pos011\": \"JE2RFP_gltTGFP_PAO1_TSB3h\",\n",
    "    \"pos012\": \"JE2GFP_gltTRFP_PAO1_TSB3h\",\n",
    "    \"pos013\": \"JE2GFP_gltTRFP_PAO1_TSB3h\",\n",
    "    \"pos014\": \"JE2GFP_gltTRFP_PAO1_TSB3h\",\n",
    "    \"pos015\": \"JE2GFP_gltTRFP_PAO1_TSB3h\",\n",
    "    \"pos016\": \"JE2RFP_gltTGFP_PAO1_TSB16h\",\n",
    "    \"pos017\": \"JE2RFP_gltTGFP_PAO1_TSB16h\",\n",
    "    \"pos018\": \"JE2RFP_gltTGFP_PAO1_TSB16h\",\n",
    "    \"pos019\": \"JE2RFP_gltTGFP_PAO1_TSB16h\",\n",
    "    \"pos020\": \"JE2GFP_gltTRFP_PAO1_TSB16h\",\n",
    "    \"pos021\": \"JE2GFP_gltTRFP_PAO1_TSB16h\",\n",
    "    \"pos022\": \"JE2GFP_gltTRFP_PAO1_TSB16h\",\n",
    "    \"pos023\": \"JE2GFP_gltTRFP_PAO1_TSB16h\"\n",
    "}\n"
   ]
  },
  {
   "attachments": {},
   "cell_type": "markdown",
   "metadata": {},
   "source": [
    "Store metadata as pandas dataframe"
   ]
  },
  {
   "cell_type": "code",
   "execution_count": 5,
   "metadata": {},
   "outputs": [],
   "source": [
    "agarpad_20230411_dict = {}\n",
    "\n",
    "for key in agarpad_20230411_frames_dict:\n",
    "    value1 = agarpad_20230411_frames_dict[key]\n",
    "    value2 = agarpad_20230411_conditions_dict[key]\n",
    "    agarpad_20230411_dict[key] = (value1, value2)\n",
    "\n",
    "df = pd.DataFrame.from_dict(agarpad_20230411_dict, orient='index', columns=['max_frame', 'condition'])\n",
    "df.to_csv('agarpad_20230411.csv')"
   ]
  }
 ],
 "metadata": {
  "kernelspec": {
   "display_name": "im_env",
   "language": "python",
   "name": "python3"
  },
  "language_info": {
   "codemirror_mode": {
    "name": "ipython",
    "version": 3
   },
   "file_extension": ".py",
   "mimetype": "text/x-python",
   "name": "python",
   "nbconvert_exporter": "python",
   "pygments_lexer": "ipython3",
   "version": "3.9.13"
  },
  "orig_nbformat": 4
 },
 "nbformat": 4,
 "nbformat_minor": 2
}
