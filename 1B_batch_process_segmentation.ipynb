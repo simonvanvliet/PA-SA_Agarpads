{
 "cells": [
  {
   "attachments": {},
   "cell_type": "markdown",
   "metadata": {},
   "source": [
    "# Batch process segmentation made with Ilastik"
   ]
  },
  {
   "attachments": {},
   "cell_type": "markdown",
   "metadata": {},
   "source": [
    "This code performs the identical steps as in notebook 1A, but in a more streamlined way, allowing for batch processing without visual inspection.\n",
    "\n",
    "The processing functions have been moved to the process_colonies.py script."
   ]
  },
  {
   "cell_type": "code",
   "execution_count": 1,
   "metadata": {
    "tags": [
     "hide-cell"
    ]
   },
   "outputs": [],
   "source": [
    "#next two lines make sure that Matplotlib plots are shown properly in Jupyter Notebook\n",
    "%matplotlib inline\n",
    "%config InlineBackend.figure_format = 'retina'\n",
    "\n",
    "#main data analysis packages\n",
    "import numpy as np\n",
    "import seaborn as sns\n",
    "import pandas as pd\n",
    "import dask.array as da\n",
    "\n",
    "#path handling\n",
    "import pathlib\n",
    "import h5py\n",
    "\n",
    "#dask cash\n",
    "from dask.cache import Cache\n",
    "cache = Cache(4e9)  # Leverage 4 gigabytes of memory\n",
    "cache.register()    # Turn cache on globally\n",
    "\n",
    "import process_colonies as pc"
   ]
  },
  {
   "attachments": {},
   "cell_type": "markdown",
   "metadata": {},
   "source": [
    "## Set Paths and Settings"
   ]
  },
  {
   "cell_type": "code",
   "execution_count": 13,
   "metadata": {},
   "outputs": [],
   "source": [
    "#set path to registered file\n",
    "path_reg_im = pathlib.Path(\"/Volumes/ScientificData/Users/Giulia(botgiu00)/Collaborations/Ashley/2023-04-11-agar-pad-processed/Registration_max_frames/\")\n",
    "\n",
    "#set path to Ilastik output file\n",
    "path_seg_im = pathlib.Path(\"/Volumes/ScientificData/Users/Giulia(botgiu00)/Collaborations/Ashley/2023-04-11-agar-pad-processed/Registration_max_frames/\")\n",
    "\n",
    "# #set path to registered file\n",
    "# path_reg_im = pathlib.Path(\"/Users/simonvanvliet/TempData/2023-04-11-agar-pad-processed/Registration_max_frames/\")\n",
    "\n",
    "# #set path to Ilastik output file\n",
    "# path_seg_im = pathlib.Path(\"/Users/simonvanvliet/TempData/2023-04-11-agar-pad-processed/Registration_max_frames/\")\n",
    "\n",
    "#set path to temporary store label images (use local machine folder for speed)\n",
    "temp_data_path = pathlib.Path.home() / 'TempData'\n",
    "temp_data_path.mkdir(exist_ok=True)\n",
    "\n",
    "#set path to output csv files\n",
    "path_data_files = pathlib.Path('/Volumes/ScientificData/Users/Giulia(botgiu00)/Collaborations/Ashley/2023-04-11-agar-pad-processed/DataFiles/') \n",
    "path_data_files.mkdir(exist_ok=True)\n",
    "\n",
    "#set filenames\n",
    "exp_name = \"20230411\"\n",
    "\n",
    "#specify properties to extract \n",
    "prop_list = ['label', \n",
    "            'area', 'centroid', \n",
    "            'axis_major_length', 'axis_minor_length']\n",
    "\n",
    "#specify processing settings\n",
    "settings = {\n",
    "    'calc_edge_dist'    : True, #set to true to calculate distance between colony edges, more accurate that center to center distance, but very slow\n",
    "    'prop_list'         : prop_list,\n",
    "    #specify the order of the strains in the Ilastik layers\n",
    "    'idx_SA1'   : 0, #SA1 is GFP\n",
    "    'idx_SA2'   : 1, # SA2 is RFP\n",
    "    'idx_BG'    : 2,\n",
    "    'idx_PA'    : 3,\n",
    "    #specify the strain names (can be ignored because names are extracted in the 2. notebook)\n",
    "    #'SA1'       : 'enter strain name here',\n",
    "    #'SA2'       : 'enter strain name here',\n",
    "    #specify the segementation processing parameters for pseudomonas\n",
    "    'sigma'             : 1, # sigma for gaussian filter\n",
    "    'threshold_PA'      : 0.5, # threshold for segmentation\n",
    "    'closing_radius_PA' : 7, # radius for closing operation\n",
    "    'min_cell_area_PA'  : 20, # minimum area for a cell to be considered\n",
    "    'max_hole_area_PA'  : 100, # maximum area for a hole to be filled\n",
    "    #specify the segementation processing parameters for staph\n",
    "    'sigma'             : 1, # sigma for gaussian filter\n",
    "    'threshold_SA'      : 0.5, # threshold for segmentation\n",
    "    'closing_radius_SA' : 5, # radius for closing operation\n",
    "    'min_cell_area_SA'  : 20, # minimum area for a cell to be considered\n",
    "    'max_hole_area_SA'  : 100, # maximum area for a hole to be filled    \n",
    "    #store path metadata\n",
    "    'temp_path'         : temp_data_path,\n",
    "    'path_reg_im'       : path_reg_im,\n",
    "    'path_seg_im'       : path_seg_im,\n",
    "    'path_data_files'    : path_data_files,\n",
    "    'exp_name'          : exp_name\n",
    "}\n",
    "\n",
    "\n",
    "#load metadata and add to settings\n",
    "metadata_path = settings['path_data_files'] / f'agarpad_{exp_name}.csv'\n",
    "pos_metadata = pd.read_csv(metadata_path, index_col=0)\n",
    "settings['pos_metadata'] = pos_metadata"
   ]
  },
  {
   "attachments": {},
   "cell_type": "markdown",
   "metadata": {},
   "source": [
    "## Loop positions\n",
    "First make sure that all positions are found"
   ]
  },
  {
   "cell_type": "code",
   "execution_count": 14,
   "metadata": {},
   "outputs": [
    {
     "name": "stdout",
     "output_type": "stream",
     "text": [
      "20230411_reg_p000-images_Probabilities.h5\n",
      "20230411_reg_p001-images_Probabilities.h5\n",
      "20230411_reg_p002-images_Probabilities.h5\n",
      "20230411_reg_p003-images_Probabilities.h5\n",
      "20230411_reg_p004-images_Probabilities.h5\n",
      "20230411_reg_p005-images_Probabilities.h5\n",
      "20230411_reg_p006-images_Probabilities.h5\n",
      "20230411_reg_p007-images_Probabilities.h5\n",
      "20230411_reg_p008-images_Probabilities.h5\n",
      "20230411_reg_p009-images_Probabilities.h5\n",
      "20230411_reg_p010-images_Probabilities.h5\n",
      "20230411_reg_p011-images_Probabilities.h5\n",
      "20230411_reg_p012-images_Probabilities.h5\n",
      "20230411_reg_p013-images_Probabilities.h5\n",
      "20230411_reg_p014-images_Probabilities.h5\n",
      "20230411_reg_p015-images_Probabilities.h5\n",
      "20230411_reg_p016-images_Probabilities.h5\n",
      "20230411_reg_p017-images_Probabilities.h5\n",
      "20230411_reg_p018-images_Probabilities.h5\n",
      "20230411_reg_p019-images_Probabilities.h5\n",
      "20230411_reg_p020-images_Probabilities.h5\n",
      "20230411_reg_p021-images_Probabilities.h5\n",
      "20230411_reg_p022-images_Probabilities.h5\n",
      "20230411_reg_p023-images_Probabilities.h5\n"
     ]
    }
   ],
   "source": [
    "pos_list = [f.name for f in sorted(path_seg_im.glob('*_Probabilities.h5'))]\n",
    "for pos in pos_list: print(pos)"
   ]
  },
  {
   "attachments": {},
   "cell_type": "markdown",
   "metadata": {},
   "source": [
    "now we loop positions, this will take a while"
   ]
  },
  {
   "cell_type": "code",
   "execution_count": 15,
   "metadata": {},
   "outputs": [
    {
     "name": "stdout",
     "output_type": "stream",
     "text": [
      "Segementing & processing position 0\n",
      "Segementing & processing position 1\n",
      "Segementing & processing position 2\n"
     ]
    }
   ],
   "source": [
    "df_all = []\n",
    "csv_dir_pos = settings['path_data_files'] / settings['exp_name']\n",
    "csv_dir_pos.mkdir(exist_ok=True)\n",
    "\n",
    "#segment track and process all positions\n",
    "for pos in pos_list:\n",
    "    try:\n",
    "        #segment colony and store label image\n",
    "        df = pc.process_pos(pos, settings, store_2_disk=True, clean_disk=True)\n",
    "        df_all.append(df)\n",
    "    except:\n",
    "        print(\"Error processing position {}\".format(pos))      \n",
    "         \n",
    "        \n",
    "df_combined = pd.concat(df_all).reset_index(drop=True)  \n",
    "csv_name = settings['path_data_files'] / f\"{settings['expname']}_all_data.csv\"\n",
    "df_combined.to_csv(csv_name)         "
   ]
  }
 ],
 "metadata": {
  "celltoolbar": "Tags",
  "kernelspec": {
   "display_name": "i2i_env",
   "language": "python",
   "name": "python3"
  },
  "language_info": {
   "codemirror_mode": {
    "name": "ipython",
    "version": 3
   },
   "file_extension": ".py",
   "mimetype": "text/x-python",
   "name": "python",
   "nbconvert_exporter": "python",
   "pygments_lexer": "ipython3",
   "version": "3.9.13"
  },
  "vscode": {
   "interpreter": {
    "hash": "7c6538b57b9d95695cc8c88818812a736980da96b6d92e389fbfaae31437292d"
   }
  }
 },
 "nbformat": 4,
 "nbformat_minor": 4
}
