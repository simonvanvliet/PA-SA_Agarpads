{
 "cells": [
  {
   "attachments": {},
   "cell_type": "markdown",
   "metadata": {},
   "source": [
    "# Register and export agar pad movies\n",
    "\n",
    "Loads ND2 file, does registration and exports data to disk.\n",
    "This was developed for 2D, multi-channel timelapse data."
   ]
  },
  {
   "cell_type": "code",
   "execution_count": 1,
   "metadata": {
    "tags": [
     "hide-cell"
    ]
   },
   "outputs": [],
   "source": [
    "#next two lines make sure that Matplotlib plots are shown properly in Jupyter Notebook\n",
    "%matplotlib inline\n",
    "%config InlineBackend.figure_format = 'retina'\n",
    "\n",
    "#next line is required for Napari\n",
    "%gui qt\n",
    "\n",
    "#main data analysis packages\n",
    "import numpy as np\n",
    "\n",
    "import pandas as pd\n",
    "\n",
    "#image viewer\n",
    "import napari\n",
    "\n",
    "#out of memory computation\n",
    "import dask.array as da\n",
    "import dask\n",
    "\n",
    "#path handling\n",
    "import pathlib\n",
    "import nd2\n",
    "\n",
    "#file handling\n",
    "import h5py\n",
    "\n",
    "#image registration\n",
    "from registration import register_movie\n",
    "\n",
    "#dask cash\n",
    "from dask.cache import Cache\n",
    "cache = Cache(4e9)  # Leverage 4 GB of memory\n",
    "cache.register()    # Turn cache on globally"
   ]
  },
  {
   "attachments": {},
   "cell_type": "markdown",
   "metadata": {},
   "source": [
    "## Load data"
   ]
  },
  {
   "cell_type": "code",
   "execution_count": 3,
   "metadata": {},
   "outputs": [],
   "source": [
    "#set path to ND2 file\n",
    "path = pathlib.Path(\"/Volumes/ScientificData/Users/Giulia(botgiu00)/Collaborations/Ashley/2023-04-11-agar-pad/20230411.nd2\")\n",
    "\n",
    "#set folder where to store output files\n",
    "process_dir = pathlib.Path('/Volumes/ScientificData/Users/Giulia(botgiu00)/Collaborations/Ashley/2023-04-11-agar-pad-processed/')\n",
    "\n",
    "#set metadata path\n",
    "metadata_path = pathlib.Path('./agarpad_20230411.csv')"
   ]
  },
  {
   "cell_type": "code",
   "execution_count": 7,
   "metadata": {},
   "outputs": [],
   "source": [
    "!open \"smb://unibasel.ads.unibas.ch/BZ/RG van Vliet/ScientificData\""
   ]
  },
  {
   "cell_type": "code",
   "execution_count": 4,
   "metadata": {},
   "outputs": [],
   "source": [
    "f = nd2.ND2File(path)\n",
    "raw_data = f.to_dask()\n",
    "#see metadata https://pypi.org/project/nd2/\n",
    "#f.frame_metadata(0)\n",
    "#f.close()\n",
    "raw_data = raw_data[:,:1,:,:]"
   ]
  },
  {
   "attachments": {},
   "cell_type": "markdown",
   "metadata": {},
   "source": [
    "We can access metadata to find channel order"
   ]
  },
  {
   "cell_type": "code",
   "execution_count": 5,
   "metadata": {},
   "outputs": [
    {
     "data": {
      "text/plain": [
       "[Channel(channel=ChannelMeta(name='mCherry_GR', index=0, colorRGB=11519, emissionLambdaNm=629.5, excitationLambdaNm=575.0), loops=LoopIndices(NETimeLoop=None, TimeLoop=0, XYPosLoop=1, ZStackLoop=None), microscope=Microscope(objectiveMagnification=60.0, objectiveName='Plan Apo λ 60x Oil Ph3 DM', objectiveNumericalAperture=1.4, zoomMagnification=1.0, immersionRefractiveIndex=1.515, projectiveMagnification=None, pinholeDiameterUm=None, modalityFlags=['fluorescence']), volume=Volume(axesCalibrated=[True, True, False], axesCalibration=[0.108333333333333, 0.108333333333333, 1.0], axesInterpretation=(<AxisInterpretation.distance: 'distance'>, <AxisInterpretation.distance: 'distance'>, <AxisInterpretation.distance: 'distance'>), bitsPerComponentInMemory=16, bitsPerComponentSignificant=16, cameraTransformationMatrix=[-0.9991757912166891, 0.04059234221504424, -0.04059234221504424, -0.9991757912166891], componentCount=1, componentDataType='unsigned', voxelCount=[2048, 2044, 1], componentMaxima=[0.0], componentMinima=[0.0], pixelToStageTransformationMatrix=None)),\n",
       " Channel(channel=ChannelMeta(name='GFP_GR', index=1, colorRGB=65298, emissionLambdaNm=515.0, excitationLambdaNm=470.0), loops=LoopIndices(NETimeLoop=None, TimeLoop=0, XYPosLoop=1, ZStackLoop=None), microscope=Microscope(objectiveMagnification=60.0, objectiveName='Plan Apo λ 60x Oil Ph3 DM', objectiveNumericalAperture=1.4, zoomMagnification=1.0, immersionRefractiveIndex=1.515, projectiveMagnification=None, pinholeDiameterUm=None, modalityFlags=['fluorescence']), volume=Volume(axesCalibrated=[True, True, False], axesCalibration=[0.108333333333333, 0.108333333333333, 1.0], axesInterpretation=(<AxisInterpretation.distance: 'distance'>, <AxisInterpretation.distance: 'distance'>, <AxisInterpretation.distance: 'distance'>), bitsPerComponentInMemory=16, bitsPerComponentSignificant=16, cameraTransformationMatrix=[-0.9991757912166891, 0.04059234221504424, -0.04059234221504424, -0.9991757912166891], componentCount=1, componentDataType='unsigned', voxelCount=[2048, 2044, 1], componentMaxima=[0.0], componentMinima=[0.0], pixelToStageTransformationMatrix=None)),\n",
       " Channel(channel=ChannelMeta(name='Phase_GR 100x', index=2, colorRGB=16777215, emissionLambdaNm=None, excitationLambdaNm=None), loops=LoopIndices(NETimeLoop=None, TimeLoop=0, XYPosLoop=1, ZStackLoop=None), microscope=Microscope(objectiveMagnification=60.0, objectiveName='Plan Apo λ 60x Oil Ph3 DM', objectiveNumericalAperture=1.4, zoomMagnification=1.0, immersionRefractiveIndex=1.515, projectiveMagnification=None, pinholeDiameterUm=None, modalityFlags=['brightfield']), volume=Volume(axesCalibrated=[True, True, False], axesCalibration=[0.108333333333333, 0.108333333333333, 1.0], axesInterpretation=(<AxisInterpretation.distance: 'distance'>, <AxisInterpretation.distance: 'distance'>, <AxisInterpretation.distance: 'distance'>), bitsPerComponentInMemory=16, bitsPerComponentSignificant=16, cameraTransformationMatrix=[-0.9991757912166891, 0.04059234221504424, -0.04059234221504424, -0.9991757912166891], componentCount=1, componentDataType='unsigned', voxelCount=[2048, 2044, 1], componentMaxima=[0.0], componentMinima=[0.0], pixelToStageTransformationMatrix=None))]"
      ]
     },
     "execution_count": 5,
     "metadata": {},
     "output_type": "execute_result"
    }
   ],
   "source": [
    "f.metadata.channels"
   ]
  },
  {
   "cell_type": "code",
   "execution_count": 21,
   "metadata": {},
   "outputs": [
    {
     "data": {
      "text/plain": [
       "[TimeLoop(count=81, nestingLevel=0, parameters=TimeLoopParams(startMs=0.0, periodMs=180000.0, durationMs=14400000.0, periodDiff=PeriodDiff(avg=179873.74167480468, max=180468.93701171875, min=169904.22192382812)), type='TimeLoop'),\n",
       " XYPosLoop(count=24, nestingLevel=1, parameters=XYPosLoopParams(isSettingZ=True, points=[Position(stagePositionUm=[-3768.9, -8990.9, 2454.64], pfsOffset=7183.0, name=''), Position(stagePositionUm=[-4003.1000000000004, -8460.5, 2449.9], pfsOffset=7192.0, name=''), Position(stagePositionUm=[-4201.5, -8566.699999999999, 2459.08], pfsOffset=7222.0, name=''), Position(stagePositionUm=[-4858.5, -9172.6, 2455.56], pfsOffset=7165.0, name=''), Position(stagePositionUm=[-14704.0, -10465.3, 2519.76], pfsOffset=7176.0, name=''), Position(stagePositionUm=[-14772.9, -10608.5, 2520.56], pfsOffset=7226.0, name=''), Position(stagePositionUm=[-14927.7, -10730.6, 2528.06], pfsOffset=7242.0, name=''), Position(stagePositionUm=[-14758.9, -10697.0, 2520.56], pfsOffset=7223.0, name=''), Position(stagePositionUm=[-5326.1, 1094.1000000000013, 2454.26], pfsOffset=7189.0, name=''), Position(stagePositionUm=[-4907.200000000001, 1200.900000000001, 2451.6], pfsOffset=7202.0, name=''), Position(stagePositionUm=[-5166.8, 596.5, 2453.04], pfsOffset=7179.0, name=''), Position(stagePositionUm=[-5836.300000000001, 537.7000000000012, 2457.5], pfsOffset=7158.0, name=''), Position(stagePositionUm=[-20430.7, 4449.0, 2559.7200000000003], pfsOffset=7260.0, name=''), Position(stagePositionUm=[-21041.5, 4237.5, 2562.96], pfsOffset=7259.0, name=''), Position(stagePositionUm=[-21431.000000000004, 4164.600000000001, 2564.64], pfsOffset=7224.0, name=''), Position(stagePositionUm=[-21614.800000000003, 4109.500000000002, 2555.5], pfsOffset=7148.0, name=''), Position(stagePositionUm=[-1253.2000000000003, 11404.500000000002, 2450.36], pfsOffset=7214.0, name=''), Position(stagePositionUm=[-1595.2000000000003, 11278.900000000001, 2451.92], pfsOffset=7284.0, name=''), Position(stagePositionUm=[-1313.9, 11403.0, 2446.12], pfsOffset=7200.0, name=''), Position(stagePositionUm=[-2257.4, 11126.500000000002, 2443.58], pfsOffset=7294.0, name=''), Position(stagePositionUm=[-11562.4, 9678.2, 2511.96], pfsOffset=7198.0, name=''), Position(stagePositionUm=[-11736.9, 9469.900000000001, 2512.52], pfsOffset=7194.0, name=''), Position(stagePositionUm=[-12045.5, 9611.800000000001, 2514.7400000000002], pfsOffset=7219.0, name=''), Position(stagePositionUm=[-12134.300000000001, 9213.900000000001, 2514.52], pfsOffset=7286.0, name='')]), type='XYPosLoop')]"
      ]
     },
     "execution_count": 21,
     "metadata": {},
     "output_type": "execute_result"
    }
   ],
   "source": [
    "f.experiment"
   ]
  },
  {
   "cell_type": "code",
   "execution_count": 25,
   "metadata": {},
   "outputs": [
    {
     "data": {
      "text/plain": [
       "{'T': 81, 'P': 24, 'C': 3, 'Y': 2044, 'X': 2048}"
      ]
     },
     "execution_count": 25,
     "metadata": {},
     "output_type": "execute_result"
    }
   ],
   "source": [
    "f.sizes "
   ]
  },
  {
   "attachments": {},
   "cell_type": "markdown",
   "metadata": {},
   "source": [
    "Close datafile"
   ]
  },
  {
   "cell_type": "code",
   "execution_count": 15,
   "metadata": {},
   "outputs": [],
   "source": [
    "f.close()"
   ]
  },
  {
   "cell_type": "markdown",
   "metadata": {},
   "source": [
    "## Visualize with Napari"
   ]
  },
  {
   "cell_type": "code",
   "execution_count": 17,
   "metadata": {},
   "outputs": [],
   "source": [
    "viewer = napari.view_image(raw_data,\n",
    "            channel_axis=2,\n",
    "            name=[\"SA1-RFP\", \"SA2-GFP\", \"PA-Phase\"],\n",
    "            colormap=[\"red\", \"green\", \"gray\"])\n",
    "napari.run()"
   ]
  },
  {
   "attachments": {},
   "cell_type": "markdown",
   "metadata": {},
   "source": [
    "## Select maximum frame for each position and create metadata dataframe \n",
    "\n",
    "use the 0B_create_metadata.ipynb to create and save the metadata"
   ]
  },
  {
   "cell_type": "code",
   "execution_count": 16,
   "metadata": {},
   "outputs": [],
   "source": [
    "#load metadata\n",
    "df = pd.read_csv(metadata_path, index_col=0)\n",
    "\n",
    "#extract max frames\n",
    "max_frames = np.full(raw_data.shape[1],np.nan)\n",
    "for pos in range(raw_data.shape[1]):\n",
    "    if f\"pos{pos:03d}\" in df.index:\n",
    "        max_frames[pos] = df.loc[f\"pos{pos:03d}\",\"max_frame\"].astype(int)"
   ]
  },
  {
   "attachments": {},
   "cell_type": "markdown",
   "metadata": {},
   "source": [
    "## Register and Export Movie\n",
    "\n",
    "Warning: this can take a while to run"
   ]
  },
  {
   "cell_type": "code",
   "execution_count": null,
   "metadata": {},
   "outputs": [],
   "source": [
    "reg_data,translation = register_movie(raw_data, process_dir, path.stem, save_images=True, max_frames=max_frames)"
   ]
  },
  {
   "attachments": {},
   "cell_type": "markdown",
   "metadata": {},
   "source": [
    "## Visualize with Napari"
   ]
  },
  {
   "cell_type": "code",
   "execution_count": 31,
   "metadata": {},
   "outputs": [],
   "source": [
    "viewer.add_image(reg_data, \n",
    "                 channel_axis=2,\n",
    "                name=[\"phase1\", \"red1\", \"green1\"],\n",
    "                colormap=[\"gray\", \"red\", \"green\"])\n",
    "\n",
    "napari.run()"
   ]
  }
 ],
 "metadata": {
  "celltoolbar": "Tags",
  "kernelspec": {
   "display_name": "i2i_env",
   "language": "python",
   "name": "python3"
  },
  "language_info": {
   "codemirror_mode": {
    "name": "ipython",
    "version": 3
   },
   "file_extension": ".py",
   "mimetype": "text/x-python",
   "name": "python",
   "nbconvert_exporter": "python",
   "pygments_lexer": "ipython3",
   "version": "3.9.13"
  },
  "vscode": {
   "interpreter": {
    "hash": "7c6538b57b9d95695cc8c88818812a736980da96b6d92e389fbfaae31437292d"
   }
  }
 },
 "nbformat": 4,
 "nbformat_minor": 4
}
