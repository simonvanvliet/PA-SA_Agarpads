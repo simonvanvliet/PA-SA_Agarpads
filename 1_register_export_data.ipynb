{
 "cells": [
  {
   "attachments": {},
   "cell_type": "markdown",
   "metadata": {},
   "source": [
    "# Register and export agar pad movies\n",
    "\n",
    "Loads ND2 file, does registration and exports data to disk.\n",
    "This was developed for 2D, multi-channel timelapse data."
   ]
  },
  {
   "cell_type": "code",
   "execution_count": 1,
   "metadata": {
    "tags": [
     "hide-cell"
    ]
   },
   "outputs": [],
   "source": [
    "#next line is required for Napari\n",
    "%gui qt\n",
    "\n",
    "#main data analysis packages\n",
    "import numpy as np\n",
    "\n",
    "#image viewer\n",
    "import napari\n",
    "\n",
    "#out of memory computation\n",
    "import dask.array as da\n",
    "import dask\n",
    "\n",
    "#path handling\n",
    "import pathlib\n",
    "import nd2\n",
    "\n",
    "#file handling\n",
    "import h5py\n",
    "\n",
    "#image registration\n",
    "from registration import register_movie\n",
    "\n",
    "#dask cash\n",
    "from dask.cache import Cache\n",
    "cache = Cache(4e9)  # Leverage 4 GB of memory\n",
    "cache.register()    # Turn cache on globally"
   ]
  },
  {
   "attachments": {},
   "cell_type": "markdown",
   "metadata": {},
   "source": [
    "## Load data"
   ]
  },
  {
   "cell_type": "code",
   "execution_count": 3,
   "metadata": {},
   "outputs": [],
   "source": [
    "#SET path to ND2 file\n",
    "expname = \"20230411\"\n",
    "data_path = pathlib.Path(\"/Volumes/ScientificData/Users/Giulia(botgiu00)/Collaborations/Ashley/2023-04-11-agar-pad/\")\n",
    "process_path = pathlib.Path('/Volumes/ScientificData/Users/Giulia(botgiu00)/Collaborations/Ashley/')\n",
    "data_file_path = pathlib.Path(\"/Users/simonvanvliet/TempData/DataFiles\")\n",
    "\n",
    "#create file names\n",
    "process_dir = process_path / f\"{expname}-agar-pad-processed\"\n",
    "process_dir.mkdir(exist_ok=True)\n",
    "data_file = data_path / f\"{expname}.nd2\"\n",
    "metadata_path = data_file_path / f\"agarpad_{expname}.csv\""
   ]
  },
  {
   "cell_type": "code",
   "execution_count": 7,
   "metadata": {},
   "outputs": [],
   "source": [
    "!open \"smb://unibasel.ads.unibas.ch/BZ/RG van Vliet/ScientificData\""
   ]
  },
  {
   "cell_type": "code",
   "execution_count": 4,
   "metadata": {},
   "outputs": [],
   "source": [
    "f = nd2.ND2File(data_file)\n",
    "raw_data = f.to_dask()\n",
    "#see metadata https://pypi.org/project/nd2/\n",
    "print(f.metadata.channels)\n",
    "print(f.experiment)\n",
    "print(f.sizes)\n",
    "f.close()"
   ]
  },
  {
   "attachments": {},
   "cell_type": "markdown",
   "metadata": {},
   "source": [
    "## Visualize with Napari"
   ]
  },
  {
   "cell_type": "code",
   "execution_count": 17,
   "metadata": {},
   "outputs": [],
   "source": [
    "viewer = napari.view_image(raw_data,\n",
    "            channel_axis=2,\n",
    "            name=[\"SA1-RFP\", \"SA2-GFP\", \"PA-Phase\"],\n",
    "            colormap=[\"red\", \"green\", \"gray\"])\n",
    "napari.run()"
   ]
  },
  {
   "attachments": {},
   "cell_type": "markdown",
   "metadata": {},
   "source": [
    "## Select maximum frame for each position and create metadata dataframe \n",
    "\n",
    "use the 0B_create_metadata.ipynb to create and save the metadata"
   ]
  },
  {
   "cell_type": "code",
   "execution_count": 16,
   "metadata": {},
   "outputs": [],
   "source": [
    "#load metadata\n",
    "df = pd.read_csv(metadata_path, index_col=0)\n",
    "\n",
    "#extract max frames\n",
    "max_frames = np.full(raw_data.shape[1],np.nan)\n",
    "for pos in range(raw_data.shape[1]):\n",
    "    if f\"pos{pos:03d}\" in df.index:\n",
    "        max_frames[pos] = df.loc[f\"pos{pos:03d}\",\"max_frame\"].astype(int)"
   ]
  },
  {
   "attachments": {},
   "cell_type": "markdown",
   "metadata": {},
   "source": [
    "## Register and Export Movie\n",
    "\n",
    "Warning: this can take a while to run"
   ]
  },
  {
   "cell_type": "code",
   "execution_count": null,
   "metadata": {},
   "outputs": [],
   "source": [
    "reg_data,translation = register_movie(raw_data, process_dir, expname, save_images=True, max_frames=max_frames)"
   ]
  },
  {
   "attachments": {},
   "cell_type": "markdown",
   "metadata": {},
   "source": [
    "## Visualize registration with Napari"
   ]
  },
  {
   "cell_type": "code",
   "execution_count": 31,
   "metadata": {},
   "outputs": [],
   "source": [
    "viewer.add_image(reg_data, \n",
    "                 channel_axis=2,\n",
    "                name=[\"phase1\", \"red1\", \"green1\"],\n",
    "                colormap=[\"gray\", \"red\", \"green\"])\n",
    "napari.run()"
   ]
  }
 ],
 "metadata": {
  "celltoolbar": "Tags",
  "kernelspec": {
   "display_name": "i2i_env",
   "language": "python",
   "name": "python3"
  },
  "language_info": {
   "codemirror_mode": {
    "name": "ipython",
    "version": 3
   },
   "file_extension": ".py",
   "mimetype": "text/x-python",
   "name": "python",
   "nbconvert_exporter": "python",
   "pygments_lexer": "ipython3",
   "version": "3.9.13"
  },
  "vscode": {
   "interpreter": {
    "hash": "7c6538b57b9d95695cc8c88818812a736980da96b6d92e389fbfaae31437292d"
   }
  }
 },
 "nbformat": 4,
 "nbformat_minor": 4
}
