{
 "cells": [
  {
   "attachments": {},
   "cell_type": "markdown",
   "metadata": {},
   "source": [
    "# Register and export agar pad movies\n",
    "\n",
    "Loads ND2 file, does registration and exports data to disk.\n",
    "This was developed for 2D, multi-channel timelapse data."
   ]
  },
  {
   "cell_type": "code",
   "execution_count": 13,
   "metadata": {
    "tags": [
     "hide-cell"
    ]
   },
   "outputs": [],
   "source": [
    "#next line is required for Napari\n",
    "%gui qt\n",
    "\n",
    "#main data analysis packages\n",
    "import numpy as np\n",
    "import pandas as pd \n",
    "\n",
    "#image viewer\n",
    "import napari\n",
    "\n",
    "#out of memory computation\n",
    "import dask.array as da\n",
    "import dask\n",
    "\n",
    "#path handling\n",
    "import pathlib\n",
    "import nd2\n",
    "\n",
    "#file handling\n",
    "import h5py\n",
    "\n",
    "#image registration\n",
    "from registration import register_movie\n",
    "\n",
    "#dask cash\n",
    "from dask.cache import Cache\n",
    "cache = Cache(4e9)  # Leverage 4 GB of memory\n",
    "cache.register()    # Turn cache on globally"
   ]
  },
  {
   "attachments": {},
   "cell_type": "markdown",
   "metadata": {},
   "source": [
    "## Load data"
   ]
  },
  {
   "cell_type": "code",
   "execution_count": 15,
   "metadata": {},
   "outputs": [],
   "source": [
    "!open \"smb://unibasel.ads.unibas.ch/BZ/RG van Vliet/ScientificData\""
   ]
  },
  {
   "cell_type": "code",
   "execution_count": 19,
   "metadata": {},
   "outputs": [],
   "source": [
    "#SET path to ND2 file\n",
    "expname = \"20230427\"\n",
    "data_path = pathlib.Path(\"/Volumes/ScientificData/Users/Giulia(botgiu00)/Collaborations/Ashley/2023-04-27-agar-pad/\")\n",
    "process_path = pathlib.Path('/Volumes/ScientificData/Users/Giulia(botgiu00)/Collaborations/Ashley/')\n",
    "data_file_path = pathlib.Path(\"/Users/simonvanvliet/TempData/DataFiles\")\n",
    "\n",
    "#create file names\n",
    "process_dir = process_path / f\"{expname}-agar-pad-processed\"\n",
    "process_dir.mkdir(exist_ok=True)\n",
    "data_file = data_path / f\"{expname}.nd2\"\n",
    "metadata_path = data_file_path / f\"agarpad_{expname}.csv\""
   ]
  },
  {
   "cell_type": "code",
   "execution_count": 20,
   "metadata": {},
   "outputs": [
    {
     "name": "stdout",
     "output_type": "stream",
     "text": [
      "[Channel(channel=ChannelMeta(name='mCherry_GR', index=0, colorRGB=11519, emissionLambdaNm=629.5, excitationLambdaNm=575.0), loops=LoopIndices(NETimeLoop=None, TimeLoop=0, XYPosLoop=1, ZStackLoop=None), microscope=Microscope(objectiveMagnification=60.0, objectiveName='Plan Apo λ 60x Oil Ph3 DM', objectiveNumericalAperture=1.4, zoomMagnification=1.0, immersionRefractiveIndex=1.515, projectiveMagnification=None, pinholeDiameterUm=None, modalityFlags=['fluorescence']), volume=Volume(axesCalibrated=[True, True, False], axesCalibration=[0.108333333333333, 0.108333333333333, 1.0], axesInterpretation=(<AxisInterpretation.distance: 'distance'>, <AxisInterpretation.distance: 'distance'>, <AxisInterpretation.distance: 'distance'>), bitsPerComponentInMemory=16, bitsPerComponentSignificant=16, cameraTransformationMatrix=[-0.9991757912166891, 0.04059234221504424, -0.04059234221504424, -0.9991757912166891], componentCount=1, componentDataType='unsigned', voxelCount=[2048, 2044, 1], componentMaxima=[0.0], componentMinima=[0.0], pixelToStageTransformationMatrix=None)), Channel(channel=ChannelMeta(name='GFP_GR', index=1, colorRGB=65298, emissionLambdaNm=515.0, excitationLambdaNm=470.0), loops=LoopIndices(NETimeLoop=None, TimeLoop=0, XYPosLoop=1, ZStackLoop=None), microscope=Microscope(objectiveMagnification=60.0, objectiveName='Plan Apo λ 60x Oil Ph3 DM', objectiveNumericalAperture=1.4, zoomMagnification=1.0, immersionRefractiveIndex=1.515, projectiveMagnification=None, pinholeDiameterUm=None, modalityFlags=['fluorescence']), volume=Volume(axesCalibrated=[True, True, False], axesCalibration=[0.108333333333333, 0.108333333333333, 1.0], axesInterpretation=(<AxisInterpretation.distance: 'distance'>, <AxisInterpretation.distance: 'distance'>, <AxisInterpretation.distance: 'distance'>), bitsPerComponentInMemory=16, bitsPerComponentSignificant=16, cameraTransformationMatrix=[-0.9991757912166891, 0.04059234221504424, -0.04059234221504424, -0.9991757912166891], componentCount=1, componentDataType='unsigned', voxelCount=[2048, 2044, 1], componentMaxima=[0.0], componentMinima=[0.0], pixelToStageTransformationMatrix=None)), Channel(channel=ChannelMeta(name='Phase_GR 100x', index=2, colorRGB=16777215, emissionLambdaNm=None, excitationLambdaNm=None), loops=LoopIndices(NETimeLoop=None, TimeLoop=0, XYPosLoop=1, ZStackLoop=None), microscope=Microscope(objectiveMagnification=60.0, objectiveName='Plan Apo λ 60x Oil Ph3 DM', objectiveNumericalAperture=1.4, zoomMagnification=1.0, immersionRefractiveIndex=1.515, projectiveMagnification=None, pinholeDiameterUm=None, modalityFlags=['brightfield']), volume=Volume(axesCalibrated=[True, True, False], axesCalibration=[0.108333333333333, 0.108333333333333, 1.0], axesInterpretation=(<AxisInterpretation.distance: 'distance'>, <AxisInterpretation.distance: 'distance'>, <AxisInterpretation.distance: 'distance'>), bitsPerComponentInMemory=16, bitsPerComponentSignificant=16, cameraTransformationMatrix=[-0.9991757912166891, 0.04059234221504424, -0.04059234221504424, -0.9991757912166891], componentCount=1, componentDataType='unsigned', voxelCount=[2048, 2044, 1], componentMaxima=[0.0], componentMinima=[0.0], pixelToStageTransformationMatrix=None))]\n",
      "[TimeLoop(count=161, nestingLevel=0, parameters=TimeLoopParams(startMs=0.0, periodMs=180000.0, durationMs=28800000.0, periodDiff=PeriodDiff(avg=179939.40489349366, max=180183.15405273438, min=170121.92211914062)), type='TimeLoop'), XYPosLoop(count=24, nestingLevel=1, parameters=XYPosLoopParams(isSettingZ=True, points=[Position(stagePositionUm=[2812.5, -10516.0, 2400.2200000000003], pfsOffset=7052.0, name=''), Position(stagePositionUm=[2553.1000000000004, -10798.0, 2401.26], pfsOffset=7052.0, name=''), Position(stagePositionUm=[-6272.0, -12738.900000000001, 2409.78], pfsOffset=7098.0, name=''), Position(stagePositionUm=[-6725.400000000001, -12815.1, 2410.2200000000003], pfsOffset=7057.0, name=''), Position(stagePositionUm=[7560.3, -1114.6000000000001, 2377.96], pfsOffset=7037.0, name=''), Position(stagePositionUm=[7597.5, -1017.1, 2377.7200000000003], pfsOffset=7022.0, name=''), Position(stagePositionUm=[-3268.1000000000004, -2124.4, 2386.7400000000002], pfsOffset=7028.0, name=''), Position(stagePositionUm=[-2971.6000000000004, -2257.7000000000003, 2386.66], pfsOffset=7088.0, name=''), Position(stagePositionUm=[-11630.2, -2841.6000000000004, 2400.88], pfsOffset=7008.0, name=''), Position(stagePositionUm=[-11491.7, -2841.6000000000004, 2400.88], pfsOffset=7068.0, name=''), Position(stagePositionUm=[-18641.3, -3523.3, 2416.3], pfsOffset=6981.0, name=''), Position(stagePositionUm=[-19000.600000000002, -3663.7000000000003, 2417.4], pfsOffset=7034.0, name=''), Position(stagePositionUm=[3593.5, 7990.400000000001, 2368.2000000000003], pfsOffset=7098.0, name=''), Position(stagePositionUm=[3711.5, 8430.5, 2365.9], pfsOffset=7033.0, name=''), Position(stagePositionUm=[-7683.5, 5158.5, 2387.06], pfsOffset=6994.0, name=''), Position(stagePositionUm=[-7730.900000000001, 4930.200000000001, 2387.42], pfsOffset=7046.0, name=''), Position(stagePositionUm=[-14732.2, 5522.5, 2402.18], pfsOffset=7045.0, name=''), Position(stagePositionUm=[-14944.400000000001, 5391.1, 2402.88], pfsOffset=7045.0, name=''), Position(stagePositionUm=[-23269.9, 4171.0, 2425.46], pfsOffset=7032.0, name=''), Position(stagePositionUm=[-23061.4, 4189.1, 2424.82], pfsOffset=6998.0, name=''), Position(stagePositionUm=[-7629.5, 13865.400000000001, 2382.8], pfsOffset=6994.0, name=''), Position(stagePositionUm=[-7729.1, 14047.5, 2382.92], pfsOffset=6994.0, name=''), Position(stagePositionUm=[-17552.3, 12964.0, 2407.84], pfsOffset=7000.0, name=''), Position(stagePositionUm=[-17109.3, 12106.0, 2406.8], pfsOffset=7000.0, name='')]), type='XYPosLoop')]\n",
      "{'T': 161, 'P': 24, 'C': 3, 'Y': 2044, 'X': 2048}\n"
     ]
    }
   ],
   "source": [
    "f = nd2.ND2File(data_file)\n",
    "raw_data = f.to_dask()\n",
    "#see metadata https://pypi.org/project/nd2/\n",
    "print(f.metadata.channels)\n",
    "print(f.experiment)\n",
    "print(f.sizes)\n",
    "f.close()"
   ]
  },
  {
   "attachments": {},
   "cell_type": "markdown",
   "metadata": {},
   "source": [
    "## Visualize with Napari"
   ]
  },
  {
   "cell_type": "code",
   "execution_count": 7,
   "metadata": {},
   "outputs": [],
   "source": [
    "viewer = napari.view_image(raw_data,\n",
    "            channel_axis=2,\n",
    "            name=[\"SA1-RFP\", \"SA2-GFP\", \"PA-Phase\"],\n",
    "            colormap=[\"red\", \"green\", \"gray\"])\n",
    "napari.run()"
   ]
  },
  {
   "attachments": {},
   "cell_type": "markdown",
   "metadata": {},
   "source": [
    "## Select maximum frame for each position and create metadata dataframe \n",
    "\n",
    "use the 0B_create_metadata.ipynb to create and save the metadata"
   ]
  },
  {
   "cell_type": "code",
   "execution_count": 10,
   "metadata": {},
   "outputs": [],
   "source": [
    "#load metadata\n",
    "df = pd.read_csv(metadata_path, index_col=0)\n",
    "\n",
    "#extract max frames\n",
    "max_frames = np.full(raw_data.shape[1],np.nan)\n",
    "for pos in range(raw_data.shape[1]):\n",
    "    if f\"pos{pos:03d}\" in df.index:\n",
    "        max_frames[pos] = df.loc[f\"pos{pos:03d}\",\"max_frame\"].astype(int)"
   ]
  },
  {
   "attachments": {},
   "cell_type": "markdown",
   "metadata": {},
   "source": [
    "## Register and Export Movie\n",
    "\n",
    "Warning: this can take a while to run"
   ]
  },
  {
   "cell_type": "code",
   "execution_count": 11,
   "metadata": {},
   "outputs": [],
   "source": [
    "reg_data,translation = register_movie(raw_data, process_dir, expname, save_images=True, max_frames=max_frames)"
   ]
  },
  {
   "attachments": {},
   "cell_type": "markdown",
   "metadata": {},
   "source": [
    "## Visualize registration with Napari"
   ]
  },
  {
   "cell_type": "code",
   "execution_count": 12,
   "metadata": {},
   "outputs": [],
   "source": [
    "viewer.add_image(reg_data, \n",
    "                 channel_axis=2,\n",
    "                name=[\"SA1-RFP\", \"SA2-GFP\", \"PA-Phase\"],\n",
    "                colormap=[\"red\", \"green\", \"gray\"])\n",
    "napari.run()\n",
    "napari.run()"
   ]
  }
 ],
 "metadata": {
  "celltoolbar": "Tags",
  "kernelspec": {
   "display_name": "i2i_env",
   "language": "python",
   "name": "python3"
  },
  "language_info": {
   "codemirror_mode": {
    "name": "ipython",
    "version": 3
   },
   "file_extension": ".py",
   "mimetype": "text/x-python",
   "name": "python",
   "nbconvert_exporter": "python",
   "pygments_lexer": "ipython3",
   "version": "3.9.16"
  },
  "vscode": {
   "interpreter": {
    "hash": "7c6538b57b9d95695cc8c88818812a736980da96b6d92e389fbfaae31437292d"
   }
  }
 },
 "nbformat": 4,
 "nbformat_minor": 4
}
