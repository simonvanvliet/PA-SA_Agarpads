{
 "cells": [
  {
   "attachments": {},
   "cell_type": "markdown",
   "metadata": {},
   "source": [
    "# Create training Data\n",
    "\n",
    "In this notebook we will create a training dataset by sampling images from a large set of data."
   ]
  },
  {
   "cell_type": "code",
   "execution_count": 27,
   "metadata": {
    "tags": [
     "hide-cell"
    ]
   },
   "outputs": [],
   "source": [
    "#path handling\n",
    "import pathlib\n",
    "import numpy as np\n",
    "\n",
    "#out of memory computation\n",
    "import dask.array as da\n",
    "import h5py \n",
    "\n",
    "#set dask cash\n",
    "from dask.cache import Cache\n",
    "cache = Cache(2e9)  # Leverage two gigabytes of memory\n",
    "cache.register()    # Turn cache on globally"
   ]
  },
  {
   "attachments": {},
   "cell_type": "markdown",
   "metadata": {},
   "source": [
    "Set folders and settings"
   ]
  },
  {
   "cell_type": "code",
   "execution_count": 28,
   "metadata": {},
   "outputs": [
    {
     "name": "stdout",
     "output_type": "stream",
     "text": [
      "/Volumes/ScientificData/Users/Giulia(botgiu00)/Collaborations/Ashley\n"
     ]
    }
   ],
   "source": [
    "#SET root dir\n",
    "root = pathlib.Path('/Volumes/ScientificData/Users/Giulia(botgiu00)/Collaborations/Ashley')\n",
    "\n",
    "#Set folders to experiments\n",
    "folders = ['20230411-agar-pad-processed',\n",
    "           '20230427-agar-pad-processed',\n",
    "           '20230504-agar-pad-processed']\n",
    "\n",
    "process_dir = pathlib.Path('/Users/simonvanvliet/TempData')\n",
    "outname = 'traning_data_PASA.h5'\n",
    "\n",
    "pos_int = 4 #interval of positions to export\n",
    "t_int = 15 #interval of timepoints to export"
   ]
  },
  {
   "attachments": {},
   "cell_type": "markdown",
   "metadata": {},
   "source": [
    "Create list of images to export"
   ]
  },
  {
   "cell_type": "code",
   "execution_count": null,
   "metadata": {},
   "outputs": [],
   "source": [
    "im_names = []\n",
    "#find subfolders\n",
    "for i, folder in enumerate(folders):\n",
    "    file_names = [f.name for f in sorted((root / folder).glob('20??????_reg_*p???.h5'))]\n",
    "    file_names = file_names[::pos_int]\n",
    "    for file in file_names:\n",
    "        im_names.append(root / folder / file)"
   ]
  },
  {
   "attachments": {},
   "cell_type": "markdown",
   "metadata": {},
   "source": [
    "Load images and save to file"
   ]
  },
  {
   "cell_type": "code",
   "execution_count": 30,
   "metadata": {},
   "outputs": [],
   "source": [
    "for i, file_name_im in enumerate(im_names):\n",
    "    dask_im_file = h5py.File(file_name_im, 'r') #open \n",
    "    chunk_size = (1, *dask_im_file['images'].shape[-3:])\n",
    "    data = da.from_array(dask_im_file['images'], chunks=chunk_size)\n",
    "    data = data[::t_int]\n",
    "    all_data = data if i == 0 else da.concatenate([all_data, data], axis=0)\n",
    "\n",
    "#store as hdf5\n",
    "outname = process_dir /  outname\n",
    "all_data.to_hdf5(outname, '/images')    "
   ]
  }
 ],
 "metadata": {
  "celltoolbar": "Tags",
  "interpreter": {
   "hash": "04885f21a4bd9418df205c8169dbf35b8c72791b69b584ac7513023d01d78b79"
  },
  "kernelspec": {
   "display_name": "Python 3.9.12 ('i2i_env')",
   "language": "python",
   "name": "python3"
  },
  "language_info": {
   "codemirror_mode": {
    "name": "ipython",
    "version": 3
   },
   "file_extension": ".py",
   "mimetype": "text/x-python",
   "name": "python",
   "nbconvert_exporter": "python",
   "pygments_lexer": "ipython3",
   "version": "3.9.13"
  }
 },
 "nbformat": 4,
 "nbformat_minor": 4
}
