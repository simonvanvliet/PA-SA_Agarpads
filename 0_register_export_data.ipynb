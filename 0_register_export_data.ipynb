{
 "cells": [
  {
   "attachments": {},
   "cell_type": "markdown",
   "metadata": {},
   "source": [
    "# Register and export agar pad movies\n",
    "\n",
    "Loads ND2 file, does registration and exports data to disk.\n",
    "This was developed for 2D, multi-channel timelapse data, might need adaptation for 3D or single channel data."
   ]
  },
  {
   "cell_type": "code",
   "execution_count": 1,
   "metadata": {
    "tags": [
     "hide-cell"
    ]
   },
   "outputs": [],
   "source": [
    "#next two lines make sure that Matplotlib plots are shown properly in Jupyter Notebook\n",
    "%matplotlib inline\n",
    "%config InlineBackend.figure_format = 'retina'\n",
    "\n",
    "#next line is required for Napari\n",
    "%gui qt\n",
    "\n",
    "#main data analysis packages\n",
    "import numpy as np\n",
    "\n",
    "import pandas as pd\n",
    "\n",
    "#image viewer\n",
    "import napari\n",
    "\n",
    "#out of memory computation\n",
    "import dask.array as da\n",
    "import dask\n",
    "\n",
    "#path handling\n",
    "import pathlib\n",
    "import nd2\n",
    "\n",
    "#file handling\n",
    "import h5py\n",
    "\n",
    "#image registration\n",
    "from registration import register_movie\n",
    "\n",
    "#dask cash\n",
    "from dask.cache import Cache\n",
    "cache = Cache(2e9)  # Leverage two gigabytes of memory\n",
    "cache.register()    # Turn cache on globally"
   ]
  },
  {
   "attachments": {},
   "cell_type": "markdown",
   "metadata": {},
   "source": [
    "## Load data"
   ]
  },
  {
   "cell_type": "code",
   "execution_count": 2,
   "metadata": {},
   "outputs": [],
   "source": [
    "#set path to ND2 file\n",
    "path = \"/Volumes/ScientificData/Users/Giulia(botgiu00)/Collaborations/Ashley/2023-02-03-agar-pad/20230203-agar-pad.nd2\"\n",
    "\n",
    "#set folder where to store output files\n",
    "process_dir = pathlib.Path('/Volumes/ScientificData/Giulia/Collaborations/Ashley/2023-01-20-agar-pad-processed/')"
   ]
  },
  {
   "cell_type": "code",
   "execution_count": 3,
   "metadata": {},
   "outputs": [],
   "source": [
    "f = nd2.ND2File(path)\n",
    "raw_data = f.to_dask()\n",
    "f.close()"
   ]
  },
  {
   "cell_type": "markdown",
   "metadata": {},
   "source": [
    "## Visualize with Napari"
   ]
  },
  {
   "cell_type": "code",
   "execution_count": 4,
   "metadata": {},
   "outputs": [],
   "source": [
    "viewer = napari.view_image(raw_data,\n",
    "            channel_axis=2,\n",
    "            name=[\"phase\", \"red\", \"green\"],\n",
    "            colormap=[\"gray\", \"red\", \"green\"])\n",
    "napari.run()"
   ]
  },
  {
   "attachments": {},
   "cell_type": "markdown",
   "metadata": {},
   "source": [
    "## Register and Export Movie\n",
    "\n",
    "Warning: this can take a while to run"
   ]
  },
  {
   "cell_type": "code",
   "execution_count": 48,
   "metadata": {},
   "outputs": [],
   "source": [
    "reg_data,translation = register_movie(raw_data, process_dir, path.stem)"
   ]
  },
  {
   "attachments": {},
   "cell_type": "markdown",
   "metadata": {},
   "source": [
    "## Visualize with Napari"
   ]
  },
  {
   "cell_type": "code",
   "execution_count": 47,
   "metadata": {},
   "outputs": [],
   "source": [
    "viewer.add_image(reg_data, \n",
    "                 channel_axis=2,\n",
    "                name=[\"phase1\", \"red1\", \"green1\"],\n",
    "                colormap=[\"gray\", \"red\", \"green\"])\n",
    "\n",
    "napari.run()"
   ]
  }
 ],
 "metadata": {
  "celltoolbar": "Tags",
  "kernelspec": {
   "display_name": "i2i_env",
   "language": "python",
   "name": "python3"
  },
  "language_info": {
   "codemirror_mode": {
    "name": "ipython",
    "version": 3
   },
   "file_extension": ".py",
   "mimetype": "text/x-python",
   "name": "python",
   "nbconvert_exporter": "python",
   "pygments_lexer": "ipython3",
   "version": "3.9.13"
  },
  "vscode": {
   "interpreter": {
    "hash": "7c6538b57b9d95695cc8c88818812a736980da96b6d92e389fbfaae31437292d"
   }
  }
 },
 "nbformat": 4,
 "nbformat_minor": 4
}
