{
 "cells": [
  {
   "attachments": {},
   "cell_type": "markdown",
   "metadata": {},
   "source": [
    "# Register and export agar pad movies\n",
    "\n",
    "Loads ND2 file, does registration and exports data to disk.\n",
    "This was developed for 2D, multi-channel timelapse data, might need adaptation for 3D or single channel data."
   ]
  },
  {
   "cell_type": "code",
   "execution_count": 1,
   "metadata": {
    "tags": [
     "hide-cell"
    ]
   },
   "outputs": [],
   "source": [
    "#next two lines make sure that Matplotlib plots are shown properly in Jupyter Notebook\n",
    "%matplotlib inline\n",
    "%config InlineBackend.figure_format = 'retina'\n",
    "\n",
    "#next line is required for Napari\n",
    "%gui qt\n",
    "\n",
    "#main data analysis packages\n",
    "import numpy as np\n",
    "\n",
    "import pandas as pd\n",
    "\n",
    "#image viewer\n",
    "import napari\n",
    "\n",
    "#out of memory computation\n",
    "import dask.array as da\n",
    "import dask\n",
    "\n",
    "#path handling\n",
    "import pathlib\n",
    "import nd2\n",
    "\n",
    "#file handling\n",
    "import h5py\n",
    "\n",
    "#image registration\n",
    "from registration import register_movie\n",
    "\n",
    "#dask cash\n",
    "from dask.cache import Cache\n",
    "cache = Cache(2e9)  # Leverage two gigabytes of memory\n",
    "cache.register()    # Turn cache on globally"
   ]
  },
  {
   "attachments": {},
   "cell_type": "markdown",
   "metadata": {},
   "source": [
    "## Load data"
   ]
  },
  {
   "cell_type": "code",
   "execution_count": 3,
   "metadata": {},
   "outputs": [],
   "source": [
    "#set path to ND2 file\n",
    "path = pathlib.Path(\"/Volumes/ScientificData/Users/Giulia(botgiu00)/Collaborations/Ashley/2023-04-05-agar-pad/20230405.nd2\")\n",
    "\n",
    "#set folder where to store output files\n",
    "process_dir = pathlib.Path('/Volumes/ScientificData/Users/Giulia(botgiu00)/Collaborations/Ashley/2023-04-05-agar-pad-processed/')"
   ]
  },
  {
   "cell_type": "code",
   "execution_count": 4,
   "metadata": {},
   "outputs": [],
   "source": [
    "f = nd2.ND2File(path)\n",
    "raw_data = f.to_dask()\n",
    "f.close()"
   ]
  },
  {
   "cell_type": "code",
   "execution_count": 5,
   "metadata": {},
   "outputs": [
    {
     "data": {
      "text/html": [
       "<table>\n",
       "    <tr>\n",
       "        <td>\n",
       "            <table>\n",
       "                <thead>\n",
       "                    <tr>\n",
       "                        <td> </td>\n",
       "                        <th> Array </th>\n",
       "                        <th> Chunk </th>\n",
       "                    </tr>\n",
       "                </thead>\n",
       "                <tbody>\n",
       "                    \n",
       "                    <tr>\n",
       "                        <th> Bytes </th>\n",
       "                        <td> 108.84 GiB </td>\n",
       "                        <td> 23.95 MiB </td>\n",
       "                    </tr>\n",
       "                    \n",
       "                    <tr>\n",
       "                        <th> Shape </th>\n",
       "                        <td> (141, 33, 3, 2044, 2048) </td>\n",
       "                        <td> (1, 1, 3, 2044, 2048) </td>\n",
       "                    </tr>\n",
       "                    <tr>\n",
       "                        <th> Count </th>\n",
       "                        <td> 9306 Tasks </td>\n",
       "                        <td> 4653 Chunks </td>\n",
       "                    </tr>\n",
       "                    <tr>\n",
       "                    <th> Type </th>\n",
       "                    <td> uint16 </td>\n",
       "                    <td> numpy.ndarray </td>\n",
       "                    </tr>\n",
       "                </tbody>\n",
       "            </table>\n",
       "        </td>\n",
       "        <td>\n",
       "        <svg width=\"378\" height=\"184\" style=\"stroke:rgb(0,0,0);stroke-width:1\" >\n",
       "\n",
       "  <!-- Horizontal lines -->\n",
       "  <line x1=\"0\" y1=\"0\" x2=\"27\" y2=\"0\" style=\"stroke-width:2\" />\n",
       "  <line x1=\"0\" y1=\"1\" x2=\"27\" y2=\"1\" />\n",
       "  <line x1=\"0\" y1=\"2\" x2=\"27\" y2=\"2\" />\n",
       "  <line x1=\"0\" y1=\"3\" x2=\"27\" y2=\"3\" />\n",
       "  <line x1=\"0\" y1=\"4\" x2=\"27\" y2=\"4\" />\n",
       "  <line x1=\"0\" y1=\"5\" x2=\"27\" y2=\"5\" />\n",
       "  <line x1=\"0\" y1=\"6\" x2=\"27\" y2=\"6\" />\n",
       "  <line x1=\"0\" y1=\"7\" x2=\"27\" y2=\"7\" />\n",
       "  <line x1=\"0\" y1=\"9\" x2=\"27\" y2=\"9\" />\n",
       "  <line x1=\"0\" y1=\"10\" x2=\"27\" y2=\"10\" />\n",
       "  <line x1=\"0\" y1=\"11\" x2=\"27\" y2=\"11\" />\n",
       "  <line x1=\"0\" y1=\"12\" x2=\"27\" y2=\"12\" />\n",
       "  <line x1=\"0\" y1=\"13\" x2=\"27\" y2=\"13\" />\n",
       "  <line x1=\"0\" y1=\"14\" x2=\"27\" y2=\"14\" />\n",
       "  <line x1=\"0\" y1=\"15\" x2=\"27\" y2=\"15\" />\n",
       "  <line x1=\"0\" y1=\"17\" x2=\"27\" y2=\"17\" />\n",
       "  <line x1=\"0\" y1=\"18\" x2=\"27\" y2=\"18\" />\n",
       "  <line x1=\"0\" y1=\"19\" x2=\"27\" y2=\"19\" />\n",
       "  <line x1=\"0\" y1=\"20\" x2=\"27\" y2=\"20\" />\n",
       "  <line x1=\"0\" y1=\"21\" x2=\"27\" y2=\"21\" />\n",
       "  <line x1=\"0\" y1=\"22\" x2=\"27\" y2=\"22\" />\n",
       "  <line x1=\"0\" y1=\"23\" x2=\"27\" y2=\"23\" />\n",
       "  <line x1=\"0\" y1=\"24\" x2=\"27\" y2=\"24\" />\n",
       "  <line x1=\"0\" y1=\"26\" x2=\"27\" y2=\"26\" />\n",
       "  <line x1=\"0\" y1=\"27\" x2=\"27\" y2=\"27\" />\n",
       "  <line x1=\"0\" y1=\"28\" x2=\"27\" y2=\"28\" />\n",
       "  <line x1=\"0\" y1=\"29\" x2=\"27\" y2=\"29\" />\n",
       "  <line x1=\"0\" y1=\"30\" x2=\"27\" y2=\"30\" />\n",
       "  <line x1=\"0\" y1=\"31\" x2=\"27\" y2=\"31\" />\n",
       "  <line x1=\"0\" y1=\"32\" x2=\"27\" y2=\"32\" />\n",
       "  <line x1=\"0\" y1=\"34\" x2=\"27\" y2=\"34\" />\n",
       "  <line x1=\"0\" y1=\"35\" x2=\"27\" y2=\"35\" />\n",
       "  <line x1=\"0\" y1=\"36\" x2=\"27\" y2=\"36\" style=\"stroke-width:2\" />\n",
       "\n",
       "  <!-- Vertical lines -->\n",
       "  <line x1=\"0\" y1=\"0\" x2=\"0\" y2=\"36\" style=\"stroke-width:2\" />\n",
       "  <line x1=\"0\" y1=\"0\" x2=\"0\" y2=\"36\" />\n",
       "  <line x1=\"1\" y1=\"0\" x2=\"1\" y2=\"36\" />\n",
       "  <line x1=\"2\" y1=\"0\" x2=\"2\" y2=\"36\" />\n",
       "  <line x1=\"3\" y1=\"0\" x2=\"3\" y2=\"36\" />\n",
       "  <line x1=\"4\" y1=\"0\" x2=\"4\" y2=\"36\" />\n",
       "  <line x1=\"5\" y1=\"0\" x2=\"5\" y2=\"36\" />\n",
       "  <line x1=\"5\" y1=\"0\" x2=\"5\" y2=\"36\" />\n",
       "  <line x1=\"6\" y1=\"0\" x2=\"6\" y2=\"36\" />\n",
       "  <line x1=\"7\" y1=\"0\" x2=\"7\" y2=\"36\" />\n",
       "  <line x1=\"8\" y1=\"0\" x2=\"8\" y2=\"36\" />\n",
       "  <line x1=\"9\" y1=\"0\" x2=\"9\" y2=\"36\" />\n",
       "  <line x1=\"10\" y1=\"0\" x2=\"10\" y2=\"36\" />\n",
       "  <line x1=\"10\" y1=\"0\" x2=\"10\" y2=\"36\" />\n",
       "  <line x1=\"11\" y1=\"0\" x2=\"11\" y2=\"36\" />\n",
       "  <line x1=\"12\" y1=\"0\" x2=\"12\" y2=\"36\" />\n",
       "  <line x1=\"13\" y1=\"0\" x2=\"13\" y2=\"36\" />\n",
       "  <line x1=\"14\" y1=\"0\" x2=\"14\" y2=\"36\" />\n",
       "  <line x1=\"15\" y1=\"0\" x2=\"15\" y2=\"36\" />\n",
       "  <line x1=\"16\" y1=\"0\" x2=\"16\" y2=\"36\" />\n",
       "  <line x1=\"16\" y1=\"0\" x2=\"16\" y2=\"36\" />\n",
       "  <line x1=\"17\" y1=\"0\" x2=\"17\" y2=\"36\" />\n",
       "  <line x1=\"18\" y1=\"0\" x2=\"18\" y2=\"36\" />\n",
       "  <line x1=\"19\" y1=\"0\" x2=\"19\" y2=\"36\" />\n",
       "  <line x1=\"20\" y1=\"0\" x2=\"20\" y2=\"36\" />\n",
       "  <line x1=\"21\" y1=\"0\" x2=\"21\" y2=\"36\" />\n",
       "  <line x1=\"21\" y1=\"0\" x2=\"21\" y2=\"36\" />\n",
       "  <line x1=\"22\" y1=\"0\" x2=\"22\" y2=\"36\" />\n",
       "  <line x1=\"23\" y1=\"0\" x2=\"23\" y2=\"36\" />\n",
       "  <line x1=\"24\" y1=\"0\" x2=\"24\" y2=\"36\" />\n",
       "  <line x1=\"25\" y1=\"0\" x2=\"25\" y2=\"36\" />\n",
       "  <line x1=\"26\" y1=\"0\" x2=\"26\" y2=\"36\" />\n",
       "  <line x1=\"27\" y1=\"0\" x2=\"27\" y2=\"36\" style=\"stroke-width:2\" />\n",
       "\n",
       "  <!-- Colored Rectangle -->\n",
       "  <polygon points=\"0.0,0.0 27.84048196843803,0.0 27.84048196843803,36.44039708970724 0.0,36.44039708970724\" style=\"fill:#8B4903A0;stroke-width:0\"/>\n",
       "\n",
       "  <!-- Text -->\n",
       "  <text x=\"13.920241\" y=\"56.440397\" font-size=\"1.0rem\" font-weight=\"100\" text-anchor=\"middle\" >33</text>\n",
       "  <text x=\"47.840482\" y=\"18.220199\" font-size=\"1.0rem\" font-weight=\"100\" text-anchor=\"middle\" transform=\"rotate(-90,47.840482,18.220199)\">141</text>\n",
       "\n",
       "\n",
       "  <!-- Horizontal lines -->\n",
       "  <line x1=\"97\" y1=\"0\" x2=\"111\" y2=\"14\" style=\"stroke-width:2\" />\n",
       "  <line x1=\"97\" y1=\"119\" x2=\"111\" y2=\"134\" style=\"stroke-width:2\" />\n",
       "\n",
       "  <!-- Vertical lines -->\n",
       "  <line x1=\"97\" y1=\"0\" x2=\"97\" y2=\"119\" style=\"stroke-width:2\" />\n",
       "  <line x1=\"111\" y1=\"14\" x2=\"111\" y2=\"134\" style=\"stroke-width:2\" />\n",
       "\n",
       "  <!-- Colored Rectangle -->\n",
       "  <polygon points=\"97.0,0.0 111.9485979497544,14.948597949754403 111.9485979497544,134.7142229497544 97.0,119.765625\" style=\"fill:#ECB172A0;stroke-width:0\"/>\n",
       "\n",
       "  <!-- Horizontal lines -->\n",
       "  <line x1=\"97\" y1=\"0\" x2=\"217\" y2=\"0\" style=\"stroke-width:2\" />\n",
       "  <line x1=\"111\" y1=\"14\" x2=\"231\" y2=\"14\" style=\"stroke-width:2\" />\n",
       "\n",
       "  <!-- Vertical lines -->\n",
       "  <line x1=\"97\" y1=\"0\" x2=\"111\" y2=\"14\" style=\"stroke-width:2\" />\n",
       "  <line x1=\"217\" y1=\"0\" x2=\"231\" y2=\"14\" style=\"stroke-width:2\" />\n",
       "\n",
       "  <!-- Colored Rectangle -->\n",
       "  <polygon points=\"97.0,0.0 217.0,0.0 231.9485979497544,14.948597949754403 111.9485979497544,14.948597949754403\" style=\"fill:#ECB172A0;stroke-width:0\"/>\n",
       "\n",
       "  <!-- Horizontal lines -->\n",
       "  <line x1=\"111\" y1=\"14\" x2=\"231\" y2=\"14\" style=\"stroke-width:2\" />\n",
       "  <line x1=\"111\" y1=\"134\" x2=\"231\" y2=\"134\" style=\"stroke-width:2\" />\n",
       "\n",
       "  <!-- Vertical lines -->\n",
       "  <line x1=\"111\" y1=\"14\" x2=\"111\" y2=\"134\" style=\"stroke-width:2\" />\n",
       "  <line x1=\"231\" y1=\"14\" x2=\"231\" y2=\"134\" style=\"stroke-width:2\" />\n",
       "\n",
       "  <!-- Colored Rectangle -->\n",
       "  <polygon points=\"111.9485979497544,14.948597949754403 231.9485979497544,14.948597949754403 231.9485979497544,134.7142229497544 111.9485979497544,134.7142229497544\" style=\"fill:#ECB172A0;stroke-width:0\"/>\n",
       "\n",
       "  <!-- Text -->\n",
       "  <text x=\"171.948598\" y=\"154.714223\" font-size=\"1.0rem\" font-weight=\"100\" text-anchor=\"middle\" >2048</text>\n",
       "  <text x=\"251.948598\" y=\"74.831410\" font-size=\"1.0rem\" font-weight=\"100\" text-anchor=\"middle\" transform=\"rotate(-90,251.948598,74.831410)\">2044</text>\n",
       "  <text x=\"94.474299\" y=\"147.239924\" font-size=\"1.0rem\" font-weight=\"100\" text-anchor=\"middle\" transform=\"rotate(45,94.474299,147.239924)\">3</text>\n",
       "</svg>\n",
       "        </td>\n",
       "    </tr>\n",
       "</table>"
      ],
      "text/plain": [
       "dask.array<_dask_block, shape=(141, 33, 3, 2044, 2048), dtype=uint16, chunksize=(1, 1, 3, 2044, 2048), chunktype=numpy.ndarray>"
      ]
     },
     "execution_count": 5,
     "metadata": {},
     "output_type": "execute_result"
    }
   ],
   "source": [
    "raw_data"
   ]
  },
  {
   "cell_type": "markdown",
   "metadata": {},
   "source": [
    "## Visualize with Napari"
   ]
  },
  {
   "cell_type": "code",
   "execution_count": 5,
   "metadata": {},
   "outputs": [],
   "source": [
    "viewer = napari.view_image(raw_data,\n",
    "            channel_axis=2,\n",
    "            name=[\"phase\", \"red\", \"green\"],\n",
    "            colormap=[\"gray\", \"red\", \"green\"])\n",
    "napari.run()"
   ]
  },
  {
   "attachments": {},
   "cell_type": "markdown",
   "metadata": {},
   "source": [
    "## Register and Export Movie\n",
    "\n",
    "Warning: this can take a while to run"
   ]
  },
  {
   "cell_type": "code",
   "execution_count": 48,
   "metadata": {},
   "outputs": [],
   "source": [
    "reg_data,translation = register_movie(raw_data, process_dir, path.stem)"
   ]
  },
  {
   "attachments": {},
   "cell_type": "markdown",
   "metadata": {},
   "source": [
    "## Visualize with Napari"
   ]
  },
  {
   "cell_type": "code",
   "execution_count": 47,
   "metadata": {},
   "outputs": [],
   "source": [
    "viewer.add_image(reg_data, \n",
    "                 channel_axis=2,\n",
    "                name=[\"phase1\", \"red1\", \"green1\"],\n",
    "                colormap=[\"gray\", \"red\", \"green\"])\n",
    "\n",
    "napari.run()"
   ]
  }
 ],
 "metadata": {
  "celltoolbar": "Tags",
  "kernelspec": {
   "display_name": "i2i_env",
   "language": "python",
   "name": "python3"
  },
  "language_info": {
   "codemirror_mode": {
    "name": "ipython",
    "version": 3
   },
   "file_extension": ".py",
   "mimetype": "text/x-python",
   "name": "python",
   "nbconvert_exporter": "python",
   "pygments_lexer": "ipython3",
   "version": "3.9.13"
  },
  "vscode": {
   "interpreter": {
    "hash": "7c6538b57b9d95695cc8c88818812a736980da96b6d92e389fbfaae31437292d"
   }
  }
 },
 "nbformat": 4,
 "nbformat_minor": 4
}
